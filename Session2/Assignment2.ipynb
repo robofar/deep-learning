{
 "cells": [
  {
   "cell_type": "code",
   "execution_count": 1,
   "id": "e8ee9ee0-5f8e-419e-9ad6-2a57e4c98060",
   "metadata": {},
   "outputs": [],
   "source": [
    "import os\n",
    "import numpy as np\n",
    "import matplotlib\n",
    "from matplotlib import pyplot as plt\n",
    "from tqdm import tqdm\n",
    "\n",
    "plt.style.use('seaborn')"
   ]
  },
  {
   "cell_type": "code",
   "execution_count": 2,
   "id": "6ef87723-1b01-4d35-8f37-e4dd5650466c",
   "metadata": {},
   "outputs": [
    {
     "name": "stderr",
     "output_type": "stream",
     "text": [
      "/home/faris/miniconda3/envs/cudalab/lib/python3.8/site-packages/tqdm/auto.py:21: TqdmWarning: IProgress not found. Please update jupyter and ipywidgets. See https://ipywidgets.readthedocs.io/en/stable/user_install.html\n",
      "  from .autonotebook import tqdm as notebook_tqdm\n"
     ]
    }
   ],
   "source": [
    "import torch\n",
    "import torch.nn as nn\n",
    "import torchvision.transforms as transforms\n",
    "import torchvision.datasets as datasets"
   ]
  },
  {
   "cell_type": "code",
   "execution_count": 3,
   "id": "0f2a151d-5662-4efd-b5d8-ce2713e0f8ff",
   "metadata": {},
   "outputs": [
    {
     "data": {
      "text/plain": [
       "True"
      ]
     },
     "execution_count": 3,
     "metadata": {},
     "output_type": "execute_result"
    }
   ],
   "source": [
    "torch.cuda.is_available()"
   ]
  },
  {
   "cell_type": "markdown",
   "id": "d39b12e8-373c-4aef-9fa1-0f1ac48f8438",
   "metadata": {},
   "source": [
    "### Pipeline\n",
    "  - Data:\n",
    "      - Load dataset\n",
    "      - DataLoader\n",
    "      - Visualize dataset samples\n",
    "  - Design Model:\n",
    "      - Model Architecture\n",
    "      - Forward Pass\n",
    "  - Define Loss Function\n",
    "  - Define Optimizer\n",
    "  - Train:\n",
    "      - Forward Pass (compute activations and loss)\n",
    "      - Backward Pass (compute gradients)\n",
    "      - Update Weights"
   ]
  },
  {
   "cell_type": "markdown",
   "id": "0bb4c161-1836-41a5-8274-a1227a9749c2",
   "metadata": {},
   "source": [
    "# Dataset"
   ]
  },
  {
   "cell_type": "code",
   "execution_count": 4,
   "id": "a669ef78-8fd7-4710-bca1-4cef08fd8ab1",
   "metadata": {},
   "outputs": [],
   "source": [
    "transform = transforms.Compose([\n",
    "    transforms.ToTensor()\n",
    "])"
   ]
  },
  {
   "cell_type": "code",
   "execution_count": 5,
   "id": "83f99e8d-8520-4fc7-b4dd-2a18aee71f2d",
   "metadata": {},
   "outputs": [
    {
     "name": "stdout",
     "output_type": "stream",
     "text": [
      "Files already downloaded and verified\n",
      "Files already downloaded and verified\n"
     ]
    }
   ],
   "source": [
    "train_dataset = datasets.CIFAR10(root='./data/CIFAR10', train=True, transform=transform, download=True)\n",
    "test_dataset = datasets.CIFAR10(root='./data/CIFAR10', train=False, transform=transform, download=True)"
   ]
  },
  {
   "cell_type": "code",
   "execution_count": 6,
   "id": "09ac0260-fbf1-483a-99be-db02c82a51e8",
   "metadata": {},
   "outputs": [
    {
     "name": "stdout",
     "output_type": "stream",
     "text": [
      "<class 'torchvision.datasets.cifar.CIFAR10'>\n",
      "<class 'torchvision.datasets.cifar.CIFAR10'>\n"
     ]
    }
   ],
   "source": [
    "print(type(train_dataset))\n",
    "print(type(test_dataset))"
   ]
  },
  {
   "cell_type": "code",
   "execution_count": 7,
   "id": "a031b7f6-ff85-420a-9c36-b4687a224a4b",
   "metadata": {},
   "outputs": [
    {
     "name": "stdout",
     "output_type": "stream",
     "text": [
      "50000\n",
      "10000\n"
     ]
    }
   ],
   "source": [
    "print(len(train_dataset))\n",
    "print(len(test_dataset))"
   ]
  },
  {
   "cell_type": "code",
   "execution_count": 8,
   "id": "54b2acce-4abc-418f-8f84-8f85f4bc7a98",
   "metadata": {},
   "outputs": [
    {
     "name": "stdout",
     "output_type": "stream",
     "text": [
      "torch.Size([3, 32, 32])\n",
      "6\n"
     ]
    }
   ],
   "source": [
    "print(train_dataset[0][0].shape)\n",
    "print(train_dataset[0][1])"
   ]
  },
  {
   "cell_type": "markdown",
   "id": "55fd1cfe-fcba-4e51-99ee-3cf88cb87d66",
   "metadata": {},
   "source": [
    "# DataLoader"
   ]
  },
  {
   "cell_type": "code",
   "execution_count": 9,
   "id": "bbdcc478-b152-4470-b8d6-fe90cd6b8a42",
   "metadata": {},
   "outputs": [],
   "source": [
    "# Fitting data loaders for iterating\n",
    "BATCH_SIZE = 64\n",
    "\n",
    "train_loader = torch.utils.data.DataLoader(dataset=train_dataset, \n",
    "                                           batch_size=BATCH_SIZE, \n",
    "                                           shuffle=True) \n",
    "test_loader = torch.utils.data.DataLoader(dataset=test_dataset, \n",
    "                                          batch_size=BATCH_SIZE, \n",
    "                                          shuffle=False)"
   ]
  },
  {
   "cell_type": "code",
   "execution_count": 12,
   "id": "4a014424-d6dc-4b28-82d7-b88a9d7d1ecb",
   "metadata": {},
   "outputs": [
    {
     "data": {
      "image/png": "[encoded data removed]",
      "text/plain": [
       "<Figure size 1152x288 with 4 Axes>"
      ]
     },
     "metadata": {
      "needs_background": "light"
     },
     "output_type": "display_data"
    }
   ],
   "source": [
    "N_IMGS = 4\n",
    "fig, ax = plt.subplots(1, N_IMGS)\n",
    "fig.set_size_inches(4 * N_IMGS, 4)\n",
    "\n",
    "cifar10_labels = ['plane', 'car', 'bird', 'cat', 'deer', 'dog', 'frog', 'horse', 'ship', 'truck']\n",
    "\n",
    "ids = np.random.randint(low=0, high=len(train_dataset), size=N_IMGS)\n",
    "\n",
    "for i, n in enumerate(ids):\n",
    "    #img = train_dataset[n][0].numpy().transpose(1, 2, 0)\n",
    "    img = train_dataset[n][0].permute(1, 2, 0)\n",
    "    label_idx = train_dataset[n][1]\n",
    "    label_name = cifar10_labels[label_idx]\n",
    "    \n",
    "    ax[i].imshow(img)\n",
    "    ax[i].set_title(f\"Img #{n}  Label: {label_name}\")\n",
    "    ax[i].axis(\"off\")\n",
    "plt.show()"
   ]
  },
  {
   "cell_type": "raw",
   "id": "6bf8098d-5fef-44fa-9b3c-dd6a9a5d4561",
   "metadata": {},
   "source": [
    "# We can iterate over whole Dataset using DataLoader\n",
    "num_epochs = 2\n",
    "for epoch in range(num_epochs):\n",
    "    for i, (imgs_train, labels_train) in enumerate(train_loader):\n",
    "        pass"
   ]
  },
  {
   "cell_type": "code",
   "execution_count": 11,
   "id": "772a090d-fff2-4b35-af46-1b4401b88c25",
   "metadata": {},
   "outputs": [
    {
     "name": "stdout",
     "output_type": "stream",
     "text": [
      "torch.Size([64, 3, 32, 32])\n",
      "64\n"
     ]
    }
   ],
   "source": [
    "it = iter(train_loader)\n",
    "current_batch = next(it)\n",
    "print(current_batch[0].shape) # batch x\n",
    "print(len(current_batch[1])) # batch y"
   ]
  },
  {
   "cell_type": "code",
   "execution_count": null,
   "id": "da379b3d-37ff-4422-aa0a-41f9afc1f31f",
   "metadata": {},
   "outputs": [],
   "source": []
  },
  {
   "cell_type": "code",
   "execution_count": null,
   "id": "87c7accd-23b9-4256-83cb-a10c40db84c1",
   "metadata": {},
   "outputs": [],
   "source": []
  },
  {
   "cell_type": "markdown",
   "id": "d76c934c-1864-49b4-bbd6-38c22ef3e4c3",
   "metadata": {},
   "source": [
    "# Model"
   ]
  },
  {
   "cell_type": "code",
   "execution_count": null,
   "id": "f88b171d-45a2-4fe2-84d2-b53d3c2534e4",
   "metadata": {},
   "outputs": [],
   "source": [
    "class CNN(nn.Module):\n",
    "    \"\"\" \n",
    "    Varation of LeNet: a simple CNN model\n",
    "    for handwritten digit recognition\n",
    "    \"\"\"\n",
    "    def __init__(self):\n",
    "        super().__init__()\n",
    "        \n",
    "        conv1 = nn.Conv2d(in_channels=3, out_channels=20, kernel_size=3, stride=1, padding=0)\n",
    "        relu1 = nn.ReLU()\n",
    "        maxpool1 = nn.MaxPool2d(kernel_size=2)\n",
    "        self.layer1 = nn.Sequential(\n",
    "                conv1, relu1, maxpool1\n",
    "        )\n",
    "      \n",
    "        conv2 = nn.Conv2d(in_channels=20, out_channels=32, kernel_size=3, stride=1, padding=0)\n",
    "        relu2 = nn.ReLU()\n",
    "        maxpool2 = nn.MaxPool2d(kernel_size=2)\n",
    "        self.layer2 = nn.Sequential(\n",
    "                conv2, relu2, maxpool2\n",
    "        )\n",
    "\n",
    "        conv3 = nn.Conv2d(in_channels=32, out_channels=32, kernel_size=3, stride=1, padding=0)\n",
    "        relu3 = nn.ReLU()\n",
    "        maxpool3 = nn.MaxPool2d(kernel_size=2)\n",
    "        self.layer3 = nn.Sequential(\n",
    "                conv3, relu3, maxpool3\n",
    "        )\n",
    "        \n",
    "        self.fc1 = nn.Linear(in_features=32*2*2, out_features=64)\n",
    "        self.fc2 = nn.Linear(in_features=64, out_features=10)\n",
    "        \n",
    "    def forward(self, x):\n",
    "        batch_length = x.shape[0]\n",
    "\n",
    "        out1 = self.layer1(x)\n",
    "        out2 = self.layer2(out1)\n",
    "        out3 = self.layer3(out2)\n",
    "        \n",
    "        # Flatten (for MLP)\n",
    "        out3_flat = out3.view(batch_length, -1)\n",
    "        y1 = self.fc1(out3_flat)\n",
    "        y2 = self.fc2(y1)\n",
    "        return y2"
   ]
  },
  {
   "cell_type": "code",
   "execution_count": null,
   "id": "4d6b0c96-ff53-4b6f-918c-bb9054b6e0d6",
   "metadata": {},
   "outputs": [],
   "source": [
    "class CNN2(nn.Module):\n",
    "    def __init__(self):\n",
    "        super().__init__()\n",
    "        self.network = nn.Sequential(\n",
    "            nn.Conv2d(3, 32, kernel_size=3, padding=1),\n",
    "            nn.ReLU(),\n",
    "            nn.Conv2d(32, 64, kernel_size=3, stride=1, padding=1),\n",
    "            nn.ReLU(),\n",
    "            nn.MaxPool2d(2, 2), # output: 64 x 16 x 16 (C,H,W)\n",
    "\n",
    "            nn.Conv2d(64, 128, kernel_size=3, stride=1, padding=1),\n",
    "            nn.ReLU(),\n",
    "            nn.Conv2d(128, 128, kernel_size=3, stride=1, padding=1),\n",
    "            nn.ReLU(),\n",
    "            nn.MaxPool2d(2, 2), # output: 128 x 8 x 8 (C,H,W)\n",
    "\n",
    "            nn.Conv2d(128, 256, kernel_size=3, stride=1, padding=1),\n",
    "            nn.ReLU(),\n",
    "            nn.Conv2d(256, 256, kernel_size=3, stride=1, padding=1),\n",
    "            nn.ReLU(),\n",
    "            nn.MaxPool2d(2, 2), # output: 256 x 4 x 4 (C,H,W)\n",
    "\n",
    "            nn.Flatten(), \n",
    "            nn.Linear(256*4*4, 1024),\n",
    "            nn.ReLU(),\n",
    "            nn.Linear(1024, 512),\n",
    "            nn.ReLU(),\n",
    "            nn.Linear(512, 10))\n",
    "        \n",
    "    def forward(self, x_batch):\n",
    "        return self.network(x_batch)"
   ]
  },
  {
   "cell_type": "code",
   "execution_count": null,
   "id": "7b067e51-4b69-426a-aa2e-1873e2c87aaa",
   "metadata": {},
   "outputs": [],
   "source": [
    "class CNN3(nn.Module):\n",
    "    def __init__(self):\n",
    "        super().__init__()\n",
    "        self.network = nn.Sequential(\n",
    "            nn.Conv2d(3, 32, kernel_size=3, padding=1),\n",
    "            nn.ReLU(),\n",
    "            nn.Dropout2d(p=0.2),  # Dropout added after the first convolutional layer\n",
    "            nn.Conv2d(32, 64, kernel_size=3, stride=1, padding=1),\n",
    "            nn.ReLU(),\n",
    "            nn.Dropout2d(p=0.2),  # Dropout added after the second convolutional layer\n",
    "            nn.MaxPool2d(2, 2), # output: 64 x 16 x 16\n",
    "\n",
    "            nn.Conv2d(64, 128, kernel_size=3, stride=1, padding=1),\n",
    "            nn.ReLU(),\n",
    "            nn.Dropout2d(p=0.2),  # Dropout added after the third convolutional layer\n",
    "            nn.Conv2d(128, 128, kernel_size=3, stride=1, padding=1),\n",
    "            nn.ReLU(),\n",
    "            nn.Dropout2d(p=0.2),  # Dropout added after the fourth convolutional layer\n",
    "            nn.MaxPool2d(2, 2), # output: 128 x 8 x 8\n",
    "\n",
    "            nn.Conv2d(128, 256, kernel_size=3, stride=1, padding=1),\n",
    "            nn.ReLU(),\n",
    "            nn.Dropout2d(p=0.2),  # Dropout added after the 5th convolutional layer\n",
    "            nn.Conv2d(256, 256, kernel_size=3, stride=1, padding=1),\n",
    "            nn.ReLU(),\n",
    "            nn.Dropout2d(p=0.2),  # Dropout added after the 6th convolutional layer\n",
    "            nn.MaxPool2d(2, 2), # output: 256 x 4 x 4\n",
    "\n",
    "            nn.Flatten(), \n",
    "            nn.Linear(256*4*4, 1024),\n",
    "            nn.ReLU(),\n",
    "            nn.Dropout(p=0.2),  # Dropout added after the first fully connected layer\n",
    "            nn.Linear(1024, 512),\n",
    "            nn.ReLU(),\n",
    "            nn.Dropout(p=0.2),  # Dropout added after the second fully connected layer\n",
    "            nn.Linear(512, 10))\n",
    "        \n",
    "    def forward(self, x_batch):\n",
    "        return self.network(x_batch)"
   ]
  },
  {
   "cell_type": "code",
   "execution_count": null,
   "id": "72d146f9-1cbb-46af-9e87-c89ed03b011a",
   "metadata": {},
   "outputs": [],
   "source": [
    "def count_model_params(model):\n",
    "    \"\"\" Counting the number of learnable parameters in a nn.Module \"\"\"\n",
    "    num_params = sum(p.numel() for p in model.parameters() if p.requires_grad)\n",
    "    return num_params"
   ]
  },
  {
   "cell_type": "code",
   "execution_count": null,
   "id": "3b836d52-5a55-4b13-b94f-43aab3625add",
   "metadata": {},
   "outputs": [],
   "source": [
    "model = CNN3()\n",
    "params = count_model_params(model)"
   ]
  },
  {
   "cell_type": "code",
   "execution_count": null,
   "id": "a92d1eef-b9ef-4648-8ff4-dd931d1fa7a7",
   "metadata": {},
   "outputs": [],
   "source": [
    "model"
   ]
  },
  {
   "cell_type": "code",
   "execution_count": null,
   "id": "9c4a2cf2-e390-477d-8fe3-dd2dd38056f8",
   "metadata": {},
   "outputs": [],
   "source": [
    "params"
   ]
  },
  {
   "cell_type": "raw",
   "id": "81726eb3-056d-4a5f-aa5e-48e6acfb24b7",
   "metadata": {},
   "source": [
    "# For getting information (mostly) about output shape after convolutional layer or pooling layer\n",
    "# We need this because we have to flatten before sending output of CNN to MLP\n",
    "y = model(train_dataset[0][0])\n",
    "y.shape"
   ]
  },
  {
   "cell_type": "code",
   "execution_count": null,
   "id": "5f44d6b9-fd00-4fb7-b31d-0db952b2d9f2",
   "metadata": {},
   "outputs": [],
   "source": []
  },
  {
   "cell_type": "code",
   "execution_count": null,
   "id": "63453eaf-7371-417f-9488-b8689cbb0996",
   "metadata": {},
   "outputs": [],
   "source": []
  },
  {
   "cell_type": "markdown",
   "id": "9306ad50-60d3-4d09-968a-f4437978735d",
   "metadata": {},
   "source": [
    "# Metrics"
   ]
  },
  {
   "cell_type": "code",
   "execution_count": null,
   "id": "8433d792-2729-4837-8502-c9ae3c84383c",
   "metadata": {},
   "outputs": [],
   "source": [
    "@torch.no_grad()\n",
    "def eval_model(model):\n",
    "    \"\"\" Computing model accuracy \"\"\"\n",
    "    correct = 0\n",
    "    total = 0\n",
    "    loss_list = []\n",
    "    \n",
    "    for images, labels in test_loader:\n",
    "        images = images.to(device)\n",
    "        labels = labels.to(device)\n",
    "        \n",
    "        # Forward pass only to get logits/output\n",
    "        outputs = model(images)\n",
    "                 \n",
    "        loss = criterion(outputs, labels)\n",
    "        loss_list.append(loss.item())\n",
    "            \n",
    "        # Get predictions from the maximum value\n",
    "        preds = torch.argmax(outputs, dim=1)\n",
    "        correct += len(torch.where(preds==labels)[0])\n",
    "        total += len(labels)\n",
    "                 \n",
    "    # Total correct predictions and loss\n",
    "    accuracy = correct / total * 100\n",
    "    loss = np.mean(loss_list)\n",
    "    return accuracy, loss"
   ]
  },
  {
   "cell_type": "code",
   "execution_count": null,
   "id": "6b301cae-468f-4e6d-9ffc-f735f87df799",
   "metadata": {},
   "outputs": [],
   "source": [
    "def save_model(model, optimizer, epoch, stats):\n",
    "    \"\"\" Saving model checkpoint \"\"\"\n",
    "    \n",
    "    if(not os.path.exists(\"models\")):\n",
    "        os.makedirs(\"models\")\n",
    "    savepath = f\"models/checkpoint_epoch_{epoch}.pth\"\n",
    "\n",
    "    torch.save({\n",
    "        'epoch': epoch,\n",
    "        'model_state_dict': model.state_dict(),\n",
    "        'optimizer_state_dict': optimizer.state_dict(),\n",
    "        'stats': stats\n",
    "    }, savepath)\n",
    "    return"
   ]
  },
  {
   "cell_type": "code",
   "execution_count": null,
   "id": "41dfebb8-231d-4ba8-8c26-9fc13589ca61",
   "metadata": {},
   "outputs": [],
   "source": []
  },
  {
   "cell_type": "code",
   "execution_count": null,
   "id": "67fac95c-af75-4f6b-8d73-4b2558e281bf",
   "metadata": {},
   "outputs": [],
   "source": []
  },
  {
   "cell_type": "markdown",
   "id": "0eaa40b1-c402-4ff3-8e05-c5b272b1f722",
   "metadata": {},
   "source": [
    "# Training"
   ]
  },
  {
   "cell_type": "code",
   "execution_count": null,
   "id": "28c1b7c6-6171-41ed-926a-7942990db724",
   "metadata": {},
   "outputs": [],
   "source": [
    "LR = 3e-4\n",
    "EPOCHS = 15"
   ]
  },
  {
   "cell_type": "code",
   "execution_count": null,
   "id": "353e01a8-b2d2-4be4-b72c-336d4084fb4b",
   "metadata": {},
   "outputs": [],
   "source": [
    "EVAL_FREQ = 1\n",
    "SAVE_FREQ = 10"
   ]
  },
  {
   "cell_type": "code",
   "execution_count": null,
   "id": "54a0869a-d615-44dd-9c1f-f5c60155d2fd",
   "metadata": {},
   "outputs": [],
   "source": [
    "stats = {\n",
    "    \"epoch\": [],\n",
    "    \"train_loss\": [],\n",
    "    \"train_accuracy\": [],\n",
    "    \"eval_loss\": [],\n",
    "    \"eval_accuracy\": []\n",
    "}"
   ]
  },
  {
   "cell_type": "code",
   "execution_count": null,
   "id": "cc0ba3ff-71e6-43a8-bd1c-879b5eaeb4ff",
   "metadata": {},
   "outputs": [],
   "source": [
    "device = torch.device(\"cuda\" if torch.cuda.is_available() else \"cpu\")"
   ]
  },
  {
   "cell_type": "code",
   "execution_count": null,
   "id": "7793e9a6-6907-437f-9cce-ee7d418b1f1b",
   "metadata": {},
   "outputs": [],
   "source": [
    "model = model.to(device)"
   ]
  },
  {
   "cell_type": "code",
   "execution_count": null,
   "id": "c8ae119a-e379-4ac4-bcae-e3832f8539c0",
   "metadata": {},
   "outputs": [],
   "source": [
    "criterion = nn.CrossEntropyLoss().to(device)\n",
    "optimizer = torch.optim.Adam(params=model.parameters(), lr=LR)"
   ]
  },
  {
   "cell_type": "code",
   "execution_count": null,
   "id": "33aaf1aa-cdd4-44fe-9dc2-8e862ce2fde9",
   "metadata": {},
   "outputs": [],
   "source": []
  },
  {
   "cell_type": "code",
   "execution_count": null,
   "id": "08f64b58-e6c5-4132-af93-e69da34ece26",
   "metadata": {},
   "outputs": [],
   "source": [
    "for epoch in range(EPOCHS):\n",
    "    loss_list = []\n",
    "    progress_bar = tqdm(enumerate(train_loader), total=len(train_loader))\n",
    "    train_total = 0\n",
    "    train_correct = 0\n",
    "    # BATCH\n",
    "    for i, (images, labels) in progress_bar:\n",
    "        images = images.to(device)\n",
    "        labels = labels.to(device)\n",
    "        \n",
    "        # Clear gradients w.r.t. parameters\n",
    "        optimizer.zero_grad()\n",
    "         \n",
    "        # Forward pass to get output/logits\n",
    "        outputs = model(images)\n",
    "         \n",
    "        # Calculate Loss (SOFTMAX is already included in CrossEntropyLoss)\n",
    "        loss = criterion(outputs, labels)\n",
    "        loss_list.append(loss.item())\n",
    "\n",
    "        # Accuracy\n",
    "        preds = torch.argmax(outputs, dim=1)\n",
    "        train_correct += len(torch.where(preds==labels)[0])\n",
    "        train_total += len(labels)\n",
    "         \n",
    "        # Getting gradients w.r.t. parameters\n",
    "        loss.backward()\n",
    "         \n",
    "        # Updating parameters\n",
    "        optimizer.step()\n",
    "        progress_bar.set_description(f\"Epoch {epoch+1} Iter {i+1}: loss {loss.item():.5f}. \")\n",
    "             \n",
    "    train_epoch_loss = np.mean(loss_list)\n",
    "    train_accuracy = train_correct / train_total * 100\n",
    "    stats[\"epoch\"].append(epoch)\n",
    "    stats[\"train_loss\"].append(train_epoch_loss)\n",
    "    stats[\"train_accuracy\"].append(train_accuracy)\n",
    "    \n",
    "    # evaluating model\n",
    "    if epoch % EVAL_FREQ == 0:\n",
    "        eval_accuracy, eval_epoch_loss = eval_model(model)  \n",
    "    else:   \n",
    "        eval_accuracy, eval_epoch_loss = -1, -1\n",
    "        \n",
    "    stats[\"eval_accuracy\"].append(eval_accuracy)\n",
    "    stats[\"eval_loss\"].append(eval_epoch_loss)\n",
    "    \n",
    "    # saving checkpoint\n",
    "    #if epoch % SAVE_FREQ == 0:\n",
    "        #save_model(model=cnn, optimizer=optimizer, epoch=epoch, stats=stats)"
   ]
  },
  {
   "cell_type": "code",
   "execution_count": null,
   "id": "c1e4f852-3a75-47bd-a75d-0db72b8b687b",
   "metadata": {},
   "outputs": [],
   "source": [
    "epochs = np.array(stats[\"epoch\"])\n",
    "train_loss = np.array(stats[\"train_loss\"])\n",
    "train_accuracy = np.array(stats[\"train_accuracy\"])\n",
    "\n",
    "eval_loss = np.array(stats[\"eval_loss\"])\n",
    "eval_accuracy = np.array(stats[\"eval_accuracy\"])\n",
    "eval_idx = np.where(eval_loss != -1)[0]"
   ]
  },
  {
   "cell_type": "markdown",
   "id": "08a3e67f-c37e-4acf-9378-a35e7d1c0249",
   "metadata": {},
   "source": [
    "# Plotting"
   ]
  },
  {
   "cell_type": "code",
   "execution_count": null,
   "id": "77f058e4-a2e9-4aae-abeb-159e8e82445b",
   "metadata": {},
   "outputs": [],
   "source": [
    "fig, ax = plt.subplots(1,1)\n",
    "fig.set_size_inches(16,5)\n",
    "\n",
    "\n",
    "ax.plot(epochs+1, train_loss, label=\"Train Loss\", linewidth=3)\n",
    "ax.plot(epochs[eval_idx]+1, eval_loss[eval_idx], c=\"red\", label=\"Eval Loss\", linewidth=3)\n",
    "#ax.scatter(epochs[eval_idx]+1, eval_loss[eval_idx], c=\"red\", s=100, marker=\"x\")\n",
    "ax.legend(loc=\"best\")\n",
    "ax.set_xlabel(\"Epochs\")\n",
    "ax.set_ylabel(\"CE Loss value\")\n",
    "\n",
    "ax.set_title(\"Training-Eval Progress\")\n",
    "\n",
    "plt.show()"
   ]
  },
  {
   "cell_type": "code",
   "execution_count": null,
   "id": "518e712f-1eb8-4692-bf0d-b248a21a6d49",
   "metadata": {},
   "outputs": [],
   "source": [
    "fig, ax = plt.subplots(1,2)\n",
    "fig.set_size_inches(16,5)\n",
    "\n",
    "ax[0].plot(epochs[eval_idx]+1, eval_accuracy[eval_idx], color=\"red\", linestyle='-', marker='X', markersize=10, linewidth=1, label=\"Accuracy\")\n",
    "ax[0].legend(loc=\"best\")\n",
    "ax[0].set_xlabel(\"Epochs\")\n",
    "ax[0].set_ylabel(\"Classification Accuracy\")\n",
    "ax[0].set_title(\"Evaluation Accuracy Progress\")\n",
    "\n",
    "ax[1].plot(epochs+1, train_accuracy, color=\"blue\", linestyle='-', marker='X', markersize=10, linewidth=1, label=\"Accuracy\")\n",
    "ax[1].legend(loc=\"best\")\n",
    "ax[1].set_xlabel(\"Epochs\")\n",
    "ax[1].set_ylabel(\"Classification Accuracy\")\n",
    "ax[1].set_title(\"Training Accuracy Progress\")\n",
    "\n",
    "plt.show()"
   ]
  },
  {
   "cell_type": "code",
   "execution_count": null,
   "id": "7f29516b-a2f7-4076-acae-a2e25e603de1",
   "metadata": {},
   "outputs": [],
   "source": []
  },
  {
   "cell_type": "code",
   "execution_count": null,
   "id": "97f3bc2b-d03b-4ebf-927e-5c764877cb70",
   "metadata": {},
   "outputs": [],
   "source": []
  },
  {
   "cell_type": "code",
   "execution_count": null,
   "id": "1da9d01e-084a-420a-86cd-9b70f969118e",
   "metadata": {},
   "outputs": [],
   "source": []
  },
  {
   "cell_type": "code",
   "execution_count": null,
   "id": "9400d6c7-c2e7-40a2-b498-b8cf68db716e",
   "metadata": {},
   "outputs": [],
   "source": []
  }
 ],
 "metadata": {
  "kernelspec": {
   "display_name": "Python 3",
   "language": "python",
   "name": "python3"
  },
  "language_info": {
   "codemirror_mode": {
    "name": "ipython",
    "version": 3
   },
   "file_extension": ".py",
   "mimetype": "text/x-python",
   "name": "python",
   "nbconvert_exporter": "python",
   "pygments_lexer": "ipython3",
   "version": "3.8.15"
  }
 },
 "nbformat": 4,
 "nbformat_minor": 5
}
