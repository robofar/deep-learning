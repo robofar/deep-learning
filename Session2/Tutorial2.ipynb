{
 "cells": [
  {
   "cell_type": "markdown",
   "metadata": {},
   "source": [
    "# Lab Vision Sytems: Session 2"
   ]
  },
  {
   "cell_type": "markdown",
   "metadata": {},
   "source": [
    "# Convolutional Networks (CNNs)"
   ]
  },
  {
   "cell_type": "code",
   "execution_count": 1,
   "metadata": {},
   "outputs": [],
   "source": [
    "import os\n",
    "import numpy as np\n",
    "import matplotlib\n",
    "from matplotlib import pyplot as plt\n",
    "from tqdm import tqdm\n",
    "\n",
    "plt.style.use('seaborn')"
   ]
  },
  {
   "cell_type": "code",
   "execution_count": null,
   "metadata": {},
   "outputs": [],
   "source": [
    "import torch\n",
    "import torch.nn as nn\n",
    "\n",
    "import torchvision.transforms as transforms\n",
    "import torchvision.datasets as datasets"
   ]
  },
  {
   "cell_type": "code",
   "execution_count": 3,
   "metadata": {},
   "outputs": [
    {
     "data": {
      "text/plain": [
       "True"
      ]
     },
     "execution_count": 3,
     "metadata": {},
     "output_type": "execute_result"
    }
   ],
   "source": [
    "torch.cuda.is_available()"
   ]
  },
  {
   "cell_type": "markdown",
   "metadata": {},
   "source": [
    "### Pipeline\n",
    "  - Data:\n",
    "      - Load dataset\n",
    "      - DataLoader\n",
    "      - Visualize dataset samples\n",
    "  - Design Model:\n",
    "      - Model Architecture\n",
    "      - Forward Pass\n",
    "  - Define Loss Function\n",
    "  - Define Optimizer\n",
    "  - Train:\n",
    "      - Forward Pass (compute activations and loss)\n",
    "      - Backward Pass (compute gradients)\n",
    "      - Update Weights"
   ]
  },
  {
   "cell_type": "markdown",
   "metadata": {},
   "source": [
    "## Dataset and DataLoader"
   ]
  },
  {
   "cell_type": "code",
   "execution_count": 4,
   "metadata": {},
   "outputs": [],
   "source": [
    "train_dataset = datasets.MNIST(root='./data', train=True, transform=transforms.ToTensor(),download=True)\n",
    "test_dataset = datasets.MNIST(root='./data', train=False, transform=transforms.ToTensor())"
   ]
  },
  {
   "cell_type": "code",
   "execution_count": 5,
   "metadata": {},
   "outputs": [],
   "source": [
    "# Fitting data loaders for iterating\n",
    "BATCH_SIZE = 64\n",
    "\n",
    "train_loader = torch.utils.data.DataLoader(dataset=train_dataset, \n",
    "                                           batch_size=BATCH_SIZE, \n",
    "                                           shuffle=True) \n",
    "test_loader = torch.utils.data.DataLoader(dataset=test_dataset, \n",
    "                                          batch_size=BATCH_SIZE, \n",
    "                                          shuffle=False)"
   ]
  },
  {
   "cell_type": "code",
   "execution_count": 8,
   "metadata": {},
   "outputs": [
    {
     "data": {
      "image/png": "[encoded data removed]",
      "text/plain": [
       "<Figure size 864x216 with 4 Axes>"
      ]
     },
     "metadata": {
      "needs_background": "light"
     },
     "output_type": "display_data"
    }
   ],
   "source": [
    "N_IMGS = 4\n",
    "fig, ax = plt.subplots(1, N_IMGS)\n",
    "fig.set_size_inches(3 * N_IMGS, 3)\n",
    "\n",
    "ids = np.random.randint(low=0, high=len(train_dataset), size=N_IMGS)\n",
    "\n",
    "for i, n in enumerate(ids):\n",
    "    #img = train_dataset[n][0].numpy().transpose(1,2,0)\n",
    "    img = train_dataset[n][0].permute(1, 2, 0)\n",
    "    label_idx = train_dataset[n][1]\n",
    "    \n",
    "    ax[i].imshow(img, cmap='gray')\n",
    "    ax[i].set_title(f\"Img #{n}  Label: {label_idx}\")\n",
    "    ax[i].axis(\"off\")\n",
    "plt.show()"
   ]
  },
  {
   "cell_type": "code",
   "execution_count": 12,
   "metadata": {},
   "outputs": [
    {
     "name": "stdout",
     "output_type": "stream",
     "text": [
      "60000\n"
     ]
    }
   ],
   "source": [
    "print(len(train_dataset))"
   ]
  },
  {
   "cell_type": "code",
   "execution_count": null,
   "metadata": {},
   "outputs": [],
   "source": []
  },
  {
   "cell_type": "raw",
   "metadata": {},
   "source": [
    "# We can iterate over whole Dataset using DataLoader\n",
    "num_epochs = 2\n",
    "for epoch in range(num_epochs):\n",
    "    for i, (imgs_train, labels_train) in enumerate(train_loader):\n",
    "        pass"
   ]
  },
  {
   "cell_type": "code",
   "execution_count": 23,
   "metadata": {},
   "outputs": [
    {
     "name": "stdout",
     "output_type": "stream",
     "text": [
      "torch.Size([64, 1, 28, 28])\n",
      "64\n"
     ]
    }
   ],
   "source": [
    "it = iter(train_loader)\n",
    "current_batch = next(it)\n",
    "print(current_batch[0].shape) # batch x\n",
    "print(len(current_batch[1])) # batch y"
   ]
  },
  {
   "cell_type": "code",
   "execution_count": null,
   "metadata": {},
   "outputs": [],
   "source": []
  },
  {
   "cell_type": "code",
   "execution_count": null,
   "metadata": {},
   "outputs": [],
   "source": []
  },
  {
   "cell_type": "markdown",
   "metadata": {},
   "source": [
    "## Model"
   ]
  },
  {
   "cell_type": "code",
   "execution_count": 9,
   "metadata": {},
   "outputs": [],
   "source": [
    "class CNN(nn.Module):\n",
    "    \"\"\" \n",
    "    Varation of LeNet: a simple CNN model\n",
    "    for handwritten digit recognition\n",
    "    \"\"\"\n",
    "    def __init__(self):\n",
    "        super().__init__()\n",
    "        \n",
    "        conv1 = nn.Conv2d(in_channels=1, out_channels=16, kernel_size=5, stride=1, padding=0)\n",
    "        relu1 = nn.ReLU()\n",
    "        maxpool1 = nn.MaxPool2d(kernel_size=2)\n",
    "        self.layer1 = nn.Sequential(\n",
    "                conv1, relu1, maxpool1\n",
    "        )\n",
    "      \n",
    "        conv2 = nn.Conv2d(in_channels=16, out_channels=32, kernel_size=5, stride=1, padding=0)\n",
    "        relu2 = nn.ReLU()\n",
    "        maxpool2 = nn.MaxPool2d(kernel_size=2)\n",
    "        self.layer2 = nn.Sequential(\n",
    "                conv2, relu2, maxpool2\n",
    "        )\n",
    "        \n",
    "        in_dim = 32 * 4 * 4 # (C,H,W) => C*H*W\n",
    "        self.fc = nn.Linear(in_features=in_dim, out_features=10)\n",
    "        \n",
    "        \n",
    "    def forward(self, x):\n",
    "        cur_b_size = x.shape[0]\n",
    "        \n",
    "        out1 = self.layer1(x)\n",
    "        out2 = self.layer2(out1)\n",
    "        # Before applying MLP we have to flatten output from CNN. \n",
    "        # In this case we are flattening like this: (B, 32, 4 ,4 ) -> (B, 32 * 4 * 4)\n",
    "        out2_flat = out2.view(cur_b_size, -1)\n",
    "        y = self.fc(out2_flat)\n",
    "        return y\n",
    "    \n",
    "def count_model_params(model):\n",
    "    \"\"\" Counting the number of learnable parameters in a nn.Module \"\"\"\n",
    "    num_params = sum(p.numel() for p in model.parameters() if p.requires_grad)\n",
    "    return num_params"
   ]
  },
  {
   "cell_type": "code",
   "execution_count": 10,
   "metadata": {},
   "outputs": [],
   "source": [
    "cnn = CNN()\n",
    "params = count_model_params(cnn)"
   ]
  },
  {
   "cell_type": "code",
   "execution_count": 11,
   "metadata": {},
   "outputs": [
    {
     "data": {
      "text/plain": [
       "CNN(\n",
       "  (layer1): Sequential(\n",
       "    (0): Conv2d(1, 16, kernel_size=(5, 5), stride=(1, 1))\n",
       "    (1): ReLU()\n",
       "    (2): MaxPool2d(kernel_size=2, stride=2, padding=0, dilation=1, ceil_mode=False)\n",
       "  )\n",
       "  (layer2): Sequential(\n",
       "    (0): Conv2d(16, 32, kernel_size=(5, 5), stride=(1, 1))\n",
       "    (1): ReLU()\n",
       "    (2): MaxPool2d(kernel_size=2, stride=2, padding=0, dilation=1, ceil_mode=False)\n",
       "  )\n",
       "  (fc): Linear(in_features=512, out_features=10, bias=True)\n",
       ")"
      ]
     },
     "execution_count": 11,
     "metadata": {},
     "output_type": "execute_result"
    }
   ],
   "source": [
    "cnn"
   ]
  },
  {
   "cell_type": "code",
   "execution_count": 12,
   "metadata": {},
   "outputs": [
    {
     "data": {
      "text/plain": [
       "18378"
      ]
     },
     "execution_count": 12,
     "metadata": {},
     "output_type": "execute_result"
    }
   ],
   "source": [
    "params"
   ]
  },
  {
   "cell_type": "code",
   "execution_count": null,
   "metadata": {},
   "outputs": [],
   "source": []
  },
  {
   "cell_type": "markdown",
   "metadata": {},
   "source": [
    "## Training"
   ]
  },
  {
   "cell_type": "code",
   "execution_count": 13,
   "metadata": {},
   "outputs": [],
   "source": [
    "LR = 3e-4\n",
    "EPOCHS = 10"
   ]
  },
  {
   "cell_type": "code",
   "execution_count": 14,
   "metadata": {},
   "outputs": [],
   "source": [
    "EVAL_FREQ = 1\n",
    "SAVE_FREQ = 10"
   ]
  },
  {
   "cell_type": "code",
   "execution_count": 15,
   "metadata": {},
   "outputs": [],
   "source": [
    "stats = {\n",
    "    \"epoch\": [],\n",
    "    \"train_loss\": [],\n",
    "    \"train_accuracy\": [],\n",
    "    \"eval_loss\": [],\n",
    "    \"eval_accuracy\": []\n",
    "}"
   ]
  },
  {
   "cell_type": "code",
   "execution_count": 16,
   "metadata": {},
   "outputs": [],
   "source": [
    "device = torch.device(\"cuda\" if torch.cuda.is_available() else \"cpu\")"
   ]
  },
  {
   "cell_type": "code",
   "execution_count": 17,
   "metadata": {},
   "outputs": [],
   "source": [
    "cnn = cnn.to(device)"
   ]
  },
  {
   "cell_type": "code",
   "execution_count": 18,
   "metadata": {},
   "outputs": [],
   "source": [
    "criterion = nn.CrossEntropyLoss().to(device)\n",
    "optimizer = torch.optim.Adam(params=cnn.parameters(), lr=LR)"
   ]
  },
  {
   "cell_type": "code",
   "execution_count": 19,
   "metadata": {},
   "outputs": [],
   "source": [
    "@torch.no_grad()\n",
    "def eval_model(model):\n",
    "    \"\"\" Computing model accuracy \"\"\"\n",
    "    correct = 0\n",
    "    total = 0\n",
    "    loss_list = []\n",
    "    \n",
    "    for images, labels in test_loader:\n",
    "        images = images.to(device)\n",
    "        labels = labels.to(device)\n",
    "        \n",
    "        # Forward pass only to get logits/output\n",
    "        outputs = model(images)\n",
    "                 \n",
    "        loss = criterion(outputs, labels)\n",
    "        loss_list.append(loss.item())\n",
    "            \n",
    "        # Get predictions from the maximum value\n",
    "        preds = torch.argmax(outputs, dim=1)\n",
    "        correct += len(torch.where(preds==labels)[0])\n",
    "        total += len(labels)\n",
    "                 \n",
    "    # Total correct predictions and loss\n",
    "    accuracy = correct / total * 100\n",
    "    loss = np.mean(loss_list)\n",
    "    return accuracy, loss"
   ]
  },
  {
   "cell_type": "code",
   "execution_count": 20,
   "metadata": {},
   "outputs": [],
   "source": [
    "def save_model(model, optimizer, epoch, stats):\n",
    "    \"\"\" Saving model checkpoint \"\"\"\n",
    "    \n",
    "    if(not os.path.exists(\"models\")):\n",
    "        os.makedirs(\"models\")\n",
    "    savepath = f\"models/checkpoint_epoch_{epoch}.pth\"\n",
    "\n",
    "    torch.save({\n",
    "        'epoch': epoch,\n",
    "        'model_state_dict': model.state_dict(),\n",
    "        'optimizer_state_dict': optimizer.state_dict(),\n",
    "        'stats': stats\n",
    "    }, savepath)\n",
    "    return"
   ]
  },
  {
   "cell_type": "code",
   "execution_count": 21,
   "metadata": {},
   "outputs": [],
   "source": [
    "def load_model(model, optimizer, savepath):\n",
    "    \"\"\" Loading pretrained checkpoint \"\"\"\n",
    "    \n",
    "    checkpoint = torch.load(savepath)\n",
    "    model.load_state_dict(checkpoint['model_state_dict'])\n",
    "    optimizer.load_state_dict(checkpoint['optimizer_state_dict'])\n",
    "    epoch = checkpoint[\"epoch\"]\n",
    "    stats = checkpoint[\"stats\"]\n",
    "    \n",
    "    return model, optimizer, epoch, stats"
   ]
  },
  {
   "cell_type": "code",
   "execution_count": 22,
   "metadata": {},
   "outputs": [
    {
     "name": "stderr",
     "output_type": "stream",
     "text": [
      "Epoch 1 Iter 938: loss 0.16597. : 100%|██████████| 938/938 [00:08<00:00, 111.08it/s]\n",
      "Epoch 2 Iter 938: loss 0.11950. : 100%|██████████| 938/938 [00:07<00:00, 133.73it/s]\n",
      "Epoch 3 Iter 938: loss 0.24129. : 100%|██████████| 938/938 [00:07<00:00, 127.76it/s]\n",
      "Epoch 4 Iter 938: loss 0.11279. : 100%|██████████| 938/938 [00:07<00:00, 126.08it/s]\n",
      "Epoch 5 Iter 938: loss 0.15035. : 100%|██████████| 938/938 [00:07<00:00, 127.22it/s]\n",
      "Epoch 6 Iter 938: loss 0.02658. : 100%|██████████| 938/938 [00:07<00:00, 126.49it/s]\n",
      "Epoch 7 Iter 938: loss 0.00423. : 100%|██████████| 938/938 [00:07<00:00, 126.82it/s]\n",
      "Epoch 8 Iter 938: loss 0.06132. : 100%|██████████| 938/938 [00:07<00:00, 132.01it/s]\n",
      "Epoch 9 Iter 938: loss 0.02256. : 100%|██████████| 938/938 [00:07<00:00, 130.38it/s]\n",
      "Epoch 10 Iter 938: loss 0.04425. : 100%|██████████| 938/938 [00:07<00:00, 128.79it/s]\n"
     ]
    }
   ],
   "source": [
    "for epoch in range(EPOCHS):\n",
    "    loss_list = []\n",
    "    progress_bar = tqdm(enumerate(train_loader), total=len(train_loader))\n",
    "    train_total = 0\n",
    "    train_correct = 0\n",
    "    for i, (images, labels) in progress_bar:\n",
    "        images = images.to(device)\n",
    "        labels = labels.to(device)\n",
    "        \n",
    "        # Clear gradients w.r.t. parameters\n",
    "        optimizer.zero_grad()\n",
    "         \n",
    "        # Forward pass to get output/logits\n",
    "        outputs = cnn(images)\n",
    "         \n",
    "        # Calculate Loss: softmax --> cross entropy loss\n",
    "        loss = criterion(outputs, labels)\n",
    "        loss_list.append(loss.item())\n",
    "\n",
    "        # Accuracy per epoch\n",
    "        preds = torch.argmax(outputs, dim=1)\n",
    "        train_correct += len(torch.where(preds==labels)[0])\n",
    "        train_total += len(labels)\n",
    "         \n",
    "        # Getting gradients w.r.t. parameters\n",
    "        loss.backward()\n",
    "         \n",
    "        # Updating parameters\n",
    "        optimizer.step()\n",
    "        progress_bar.set_description(f\"Epoch {epoch+1} Iter {i+1}: loss {loss.item():.5f}. \")\n",
    "             \n",
    "    train_epoch_loss = np.mean(loss_list)\n",
    "    train_accuracy = train_correct / train_total * 100\n",
    "    stats[\"epoch\"].append(epoch)\n",
    "    stats[\"train_loss\"].append(train_epoch_loss)\n",
    "    stats[\"train_accuracy\"].append(train_accuracy)\n",
    "    \n",
    "    # evaluating model\n",
    "    if epoch % EVAL_FREQ == 0:\n",
    "        eval_accuracy, eval_epoch_loss = eval_model(cnn)  \n",
    "        #print(f\"Accuracy at epoch {epoch}: {round(accuracy, 2)}%\")\n",
    "    else:   \n",
    "        eval_accuracy, eval_epoch_loss = -1, -1\n",
    "        \n",
    "    stats[\"eval_accuracy\"].append(eval_accuracy)\n",
    "    stats[\"eval_loss\"].append(eval_epoch_loss)\n",
    "    \n",
    "    # saving checkpoint\n",
    "    #if epoch % SAVE_FREQ == 0:\n",
    "        #save_model(model=cnn, optimizer=optimizer, epoch=epoch, stats=stats)"
   ]
  },
  {
   "cell_type": "code",
   "execution_count": 26,
   "metadata": {},
   "outputs": [],
   "source": [
    "epochs = np.array(stats[\"epoch\"])\n",
    "train_loss = np.array(stats[\"train_loss\"])\n",
    "train_accuracy = np.array(stats[\"train_accuracy\"])\n",
    "\n",
    "eval_loss = np.array(stats[\"eval_loss\"])\n",
    "eval_accuracy = np.array(stats[\"eval_accuracy\"])\n",
    "eval_idx = np.where(eval_loss != -1)[0]"
   ]
  },
  {
   "cell_type": "code",
   "execution_count": 40,
   "metadata": {},
   "outputs": [
    {
     "data": {
      "image/png": "[encoded data removed]",
      "text/plain": [
       "<Figure size 1152x360 with 1 Axes>"
      ]
     },
     "metadata": {},
     "output_type": "display_data"
    }
   ],
   "source": [
    "fig, ax = plt.subplots(1,1)\n",
    "fig.set_size_inches(16,5)\n",
    "\n",
    "\n",
    "ax.plot(epochs+1, train_loss, label=\"Train Loss\", linewidth=3)\n",
    "ax.plot(epochs[eval_idx]+1, eval_loss[eval_idx], c=\"red\", label=\"Eval Loss\", linewidth=3)\n",
    "#ax.scatter(epochs[eval_idx]+1, eval_loss[eval_idx], c=\"red\", s=100, marker=\"x\")\n",
    "ax.legend(loc=\"best\")\n",
    "ax.set_xlabel(\"Epochs\")\n",
    "ax.set_ylabel(\"CE Loss value\")\n",
    "\n",
    "ax.set_title(\"Training-Eval Progress\")\n",
    "\n",
    "plt.show()"
   ]
  },
  {
   "cell_type": "code",
   "execution_count": 41,
   "metadata": {},
   "outputs": [
    {
     "data": {
      "image/png": "[encoded data removed]",
      "text/plain": [
       "<Figure size 1152x360 with 2 Axes>"
      ]
     },
     "metadata": {},
     "output_type": "display_data"
    }
   ],
   "source": [
    "fig, ax = plt.subplots(1,2)\n",
    "fig.set_size_inches(16,5)\n",
    "\n",
    "ax[0].plot(epochs[eval_idx]+1, eval_accuracy[eval_idx], c=\"red\", label=\"Accuracy\", linewidth=3)\n",
    "ax[0].legend(loc=\"best\")\n",
    "ax[0].set_xlabel(\"Epochs\")\n",
    "ax[0].set_ylabel(\"Classification Accuracy\")\n",
    "ax[0].set_title(\"Evaluation Accuracy Progress\")\n",
    "\n",
    "ax[1].plot(epochs+1, train_accuracy, c=\"blue\", label=\"Accuracy\", linewidth=3)\n",
    "ax[1].legend(loc=\"best\")\n",
    "ax[1].set_xlabel(\"Epochs\")\n",
    "ax[1].set_ylabel(\"Classification Accuracy\")\n",
    "ax[1].set_title(\"Training Accuracy Progress\")\n",
    "\n",
    "plt.show()"
   ]
  },
  {
   "cell_type": "markdown",
   "metadata": {},
   "source": [
    "---"
   ]
  },
  {
   "cell_type": "markdown",
   "metadata": {},
   "source": [
    "# References\n",
    " - https://www.deeplearningbook.org/\n",
    " - http://cs231n.stanford.edu/\n",
    " - https://towardsdatascience.com/all-you-want-to-know-about-deep-learning-8d68dcffc258\n",
    " - https://machinelearningmastery.com/learning-curves-for-diagnosing-machine-learning-model-performance/\n",
    " - https://github.com/vdumoulin/conv_arithmetic\n",
    " "
   ]
  }
 ],
 "metadata": {
  "kernelspec": {
   "display_name": "Python 3",
   "language": "python",
   "name": "python3"
  },
  "language_info": {
   "codemirror_mode": {
    "name": "ipython",
    "version": 3
   },
   "file_extension": ".py",
   "mimetype": "text/x-python",
   "name": "python",
   "nbconvert_exporter": "python",
   "pygments_lexer": "ipython3",
   "version": "3.8.15"
  }
 },
 "nbformat": 4,
 "nbformat_minor": 4
}
