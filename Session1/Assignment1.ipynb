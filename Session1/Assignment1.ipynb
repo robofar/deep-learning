{
 "cells": [
  {
   "cell_type": "code",
   "execution_count": 1,
   "id": "f761db2a-cc16-485c-a319-3ee9213d58c0",
   "metadata": {},
   "outputs": [
    {
     "name": "stderr",
     "output_type": "stream",
     "text": [
      "/home/faris/miniconda3/envs/cudalab/lib/python3.8/site-packages/tqdm/auto.py:21: TqdmWarning: IProgress not found. Please update jupyter and ipywidgets. See https://ipywidgets.readthedocs.io/en/stable/user_install.html\n",
      "  from .autonotebook import tqdm as notebook_tqdm\n"
     ]
    }
   ],
   "source": [
    "import numpy as np\n",
    "\n",
    "import torch\n",
    "import torchvision\n",
    "import torch.nn as nn\n",
    "\n",
    "import torchvision.transforms as transforms\n",
    "import torchvision.datasets as datasets\n",
    "from torch.utils.data import Dataset, DataLoader\n",
    "\n",
    "from tqdm import tqdm\n",
    "import matplotlib.pyplot as plt\n",
    "import os"
   ]
  },
  {
   "cell_type": "markdown",
   "id": "5af906fe-8ce3-4ba2-9729-9bb429db4904",
   "metadata": {},
   "source": [
    "### Pipeline\n",
    "  - Data:\n",
    "      - Load dataset\n",
    "      - DataLoader\n",
    "      - Visualize dataset samples\n",
    "  - Design Model:\n",
    "      - Model Architecture\n",
    "      - Forward Pass\n",
    "  - Define Loss Function\n",
    "  - Define Optimizer\n",
    "  - Train:\n",
    "      - Forward Pass (compute activations and loss)\n",
    "      - Backward Pass (compute gradients)\n",
    "      - Update Weights"
   ]
  },
  {
   "cell_type": "markdown",
   "id": "8ea205db-9d53-4a5f-8d58-e2c6794192a5",
   "metadata": {},
   "source": [
    "# CIFAR10 Dataset"
   ]
  },
  {
   "cell_type": "code",
   "execution_count": null,
   "id": "31925902-40a4-43a4-a408-102214912908",
   "metadata": {},
   "outputs": [],
   "source": [
    "# https://pytorch.org/vision/main/generated/torchvision.datasets.CIFAR10.html"
   ]
  },
  {
   "cell_type": "code",
   "execution_count": 2,
   "id": "1d0e2b18-721e-45a2-ac77-e7919652da54",
   "metadata": {},
   "outputs": [],
   "source": [
    "transform = transforms.Compose([\n",
    "    transforms.ToTensor(),\n",
    "    transforms.Normalize((0.5, 0.5, 0.5), (0.5, 0.5, 0.5))\n",
    "])"
   ]
  },
  {
   "cell_type": "code",
   "execution_count": 3,
   "id": "df720f1b-66e0-41f7-950d-4cc2436b3932",
   "metadata": {},
   "outputs": [
    {
     "name": "stdout",
     "output_type": "stream",
     "text": [
      "Files already downloaded and verified\n",
      "Files already downloaded and verified\n"
     ]
    }
   ],
   "source": [
    "train_dataset = datasets.CIFAR10(root='./data/CIFAR10', train=True, transform=transform, download=True)\n",
    "test_dataset = datasets.CIFAR10(root='./data/CIFAR10', train=False, transform=transform, download=True)"
   ]
  },
  {
   "cell_type": "code",
   "execution_count": 4,
   "id": "18d537b1-bf85-46f0-a820-025a30002862",
   "metadata": {},
   "outputs": [
    {
     "name": "stdout",
     "output_type": "stream",
     "text": [
      "<class 'torchvision.datasets.cifar.CIFAR10'>\n",
      "<class 'torchvision.datasets.cifar.CIFAR10'>\n"
     ]
    }
   ],
   "source": [
    "print(type(train_dataset))\n",
    "print(type(test_dataset))"
   ]
  },
  {
   "cell_type": "code",
   "execution_count": 5,
   "id": "eba322d0-610d-4982-9371-7c18b80e58c7",
   "metadata": {},
   "outputs": [
    {
     "name": "stdout",
     "output_type": "stream",
     "text": [
      "50000\n",
      "10000\n"
     ]
    }
   ],
   "source": [
    "print(len(train_dataset))\n",
    "print(len(test_dataset))"
   ]
  },
  {
   "cell_type": "code",
   "execution_count": 6,
   "id": "2b91dd30-f7c7-4dfd-b4c2-757df649365c",
   "metadata": {},
   "outputs": [
    {
     "name": "stdout",
     "output_type": "stream",
     "text": [
      "torch.Size([3, 32, 32])\n"
     ]
    }
   ],
   "source": [
    "img_shape = train_dataset[0][0].shape\n",
    "print(img_shape)"
   ]
  },
  {
   "cell_type": "code",
   "execution_count": 7,
   "id": "f87ca1b3-da01-48cc-89c1-97a2a1c177a5",
   "metadata": {},
   "outputs": [
    {
     "name": "stdout",
     "output_type": "stream",
     "text": [
      "6\n"
     ]
    }
   ],
   "source": [
    "label = train_dataset[0][1]\n",
    "print(label)"
   ]
  },
  {
   "cell_type": "markdown",
   "id": "a23b0187-148d-428b-8d85-e334bc1a152a",
   "metadata": {},
   "source": [
    "# DataLoader"
   ]
  },
  {
   "cell_type": "code",
   "execution_count": 8,
   "id": "c911da3a-0e4a-4709-9b01-c4aac6284371",
   "metadata": {},
   "outputs": [],
   "source": [
    "BATCH_SIZE = 256\n",
    "SHUFFLE_TRAIN = True\n",
    "SHUFFLE_TEST = False"
   ]
  },
  {
   "cell_type": "code",
   "execution_count": 9,
   "id": "5304952c-c880-45c8-8668-31ef2cb1d139",
   "metadata": {},
   "outputs": [],
   "source": [
    "train_loader =  torch.utils.data.DataLoader(\n",
    "        dataset=train_dataset,\n",
    "        batch_size=BATCH_SIZE,\n",
    "        shuffle=SHUFFLE_TRAIN\n",
    "    )"
   ]
  },
  {
   "cell_type": "code",
   "execution_count": 10,
   "id": "c60e58e4-e212-412e-99a9-142aa609f665",
   "metadata": {},
   "outputs": [],
   "source": [
    "eval_loader =  torch.utils.data.DataLoader(\n",
    "        dataset=test_dataset,\n",
    "        batch_size=BATCH_SIZE,\n",
    "        shuffle=False\n",
    "    )"
   ]
  },
  {
   "cell_type": "raw",
   "id": "1487625c-2800-4f60-becf-04a2445b29d8",
   "metadata": {},
   "source": [
    "# We can iterate over whole Dataset using DataLoader\n",
    "num_epochs = 2\n",
    "for epoch in range(num_epochs):\n",
    "    for i, (imgs_eval, labels_eval) in enumerate(eval_loader):\n",
    "        pass"
   ]
  },
  {
   "cell_type": "markdown",
   "id": "c86ed975-a7e9-4100-b836-6a28313109be",
   "metadata": {},
   "source": [
    "# Visualization"
   ]
  },
  {
   "cell_type": "code",
   "execution_count": 15,
   "id": "977f05a6-7a1a-4d8b-bc7b-7f50aa498510",
   "metadata": {},
   "outputs": [
    {
     "data": {
      "text/plain": [
       "torch.Size([3, 32, 32])"
      ]
     },
     "execution_count": 15,
     "metadata": {},
     "output_type": "execute_result"
    }
   ],
   "source": [
    "train_dataset[4][0]"
   ]
  },
  {
   "cell_type": "code",
   "execution_count": 56,
   "id": "455a93e2-431b-4306-b189-4285baa8e746",
   "metadata": {},
   "outputs": [
    {
     "name": "stderr",
     "output_type": "stream",
     "text": [
      "Clipping input data to the valid range for imshow with RGB data ([0..1] for floats or [0..255] for integers).\n",
      "Clipping input data to the valid range for imshow with RGB data ([0..1] for floats or [0..255] for integers).\n",
      "Clipping input data to the valid range for imshow with RGB data ([0..1] for floats or [0..255] for integers).\n",
      "Clipping input data to the valid range for imshow with RGB data ([0..1] for floats or [0..255] for integers).\n"
     ]
    },
    {
     "data": {
      "image/png": "[encoded data removed]",
      "text/plain": [
       "<Figure size 1152x288 with 4 Axes>"
      ]
     },
     "metadata": {
      "needs_background": "light"
     },
     "output_type": "display_data"
    }
   ],
   "source": [
    "N_IMGS = 4\n",
    "fig, ax = plt.subplots(1, N_IMGS)\n",
    "fig.set_size_inches(4 * N_IMGS, 4)\n",
    "\n",
    "cifar10_labels = ['plane', 'car', 'bird', 'cat', 'deer', 'dog', 'frog', 'horse', 'ship', 'truck']\n",
    "\n",
    "ids = np.random.randint(low=0, high=len(train_dataset), size=N_IMGS)\n",
    "\n",
    "for i, n in enumerate(ids):\n",
    "    #img = train_dataset[n][0].numpy().transpose(1, 2, 0)\n",
    "    img = train_dataset[n][0].permute(1, 2, 0)\n",
    "    label_idx = train_dataset[n][1]\n",
    "    label_name = cifar10_labels[label_idx]\n",
    "    \n",
    "    ax[i].imshow(img)\n",
    "    ax[i].set_title(f\"Img #{n}  Label: {label_name}\")\n",
    "    ax[i].axis(\"off\")\n",
    "plt.show()"
   ]
  },
  {
   "cell_type": "code",
   "execution_count": null,
   "id": "2b78f0fb-3afa-4a0d-a3cb-642ca952be27",
   "metadata": {},
   "outputs": [],
   "source": []
  },
  {
   "cell_type": "code",
   "execution_count": null,
   "id": "ae527879-443b-4cea-bd8e-f1e6c4734949",
   "metadata": {},
   "outputs": [],
   "source": []
  },
  {
   "cell_type": "markdown",
   "id": "7c23a619-47e5-415a-9f5d-7ed86fbb5f15",
   "metadata": {},
   "source": [
    "# Model"
   ]
  },
  {
   "cell_type": "code",
   "execution_count": null,
   "id": "48a2b752-4dfc-40f1-af04-60d516fd3fdf",
   "metadata": {},
   "outputs": [],
   "source": [
    "class Model(nn.Module):\n",
    "    def __init__(self, input_dim, output_dim=10):\n",
    "        super().__init__()\n",
    "        self.layers = nn.Sequential(\n",
    "            nn.Linear(in_features=input_dim, out_features=600),\n",
    "            nn.ReLU(),\n",
    "            nn.Linear(in_features=600, out_features=400),\n",
    "            nn.ReLU(),\n",
    "            nn.Linear(in_features=400, out_features=output_dim)\n",
    "        )\n",
    "        \n",
    "    def forward(self, x):\n",
    "        pred = self.layers(x)\n",
    "        return pred"
   ]
  },
  {
   "cell_type": "code",
   "execution_count": null,
   "id": "fe6e2529-e5bd-4556-8bc2-3e3312cdfecd",
   "metadata": {},
   "outputs": [],
   "source": [
    "def count_model_params(model):\n",
    "    \"\"\" Counting the number of learnable parameters in a nn.Module \"\"\"\n",
    "    num_params = sum(p.numel() for p in model.parameters() if p.requires_grad)\n",
    "    return num_params"
   ]
  },
  {
   "cell_type": "code",
   "execution_count": null,
   "id": "6b27a71f-07c7-4510-b152-089f36bb03d8",
   "metadata": {},
   "outputs": [],
   "source": []
  },
  {
   "cell_type": "code",
   "execution_count": null,
   "id": "5e847309-f2b9-47dd-aab4-c147582489c7",
   "metadata": {},
   "outputs": [],
   "source": []
  },
  {
   "cell_type": "markdown",
   "id": "1bed19c2-c3f9-4db1-af5f-b1e30aba28db",
   "metadata": {},
   "source": [
    "# Training"
   ]
  },
  {
   "cell_type": "code",
   "execution_count": null,
   "id": "5ca50969-5623-44af-a04a-13c2704282fb",
   "metadata": {},
   "outputs": [],
   "source": [
    "input_dim = train_dataset[0][0].flatten(start_dim=0).shape[0] # start_dim = 0 because this is not batch but a single sample\n",
    "print(input_dim)"
   ]
  },
  {
   "cell_type": "code",
   "execution_count": null,
   "id": "0a4c6c2e-c7af-4543-8bf9-c1be92e1939a",
   "metadata": {},
   "outputs": [],
   "source": [
    "NUM_EPOCHS = 20\n",
    "LR = 0.01"
   ]
  },
  {
   "cell_type": "code",
   "execution_count": null,
   "id": "fa2d869d-d772-40f7-b2ff-63ac22853c4e",
   "metadata": {},
   "outputs": [],
   "source": [
    "device = torch.device(\"cuda\" if torch.cuda.is_available() else \"cpu\")\n",
    "model = Model(input_dim=input_dim, output_dim=10)\n",
    "model = model.to(device)"
   ]
  },
  {
   "cell_type": "code",
   "execution_count": null,
   "id": "f60bbc61-4625-4ae0-b594-1286bae8b337",
   "metadata": {},
   "outputs": [],
   "source": [
    "print(model)"
   ]
  },
  {
   "cell_type": "code",
   "execution_count": null,
   "id": "d7f79814-beb9-430e-8589-48308fc8891f",
   "metadata": {},
   "outputs": [],
   "source": [
    "count_model_params(model)"
   ]
  },
  {
   "cell_type": "code",
   "execution_count": null,
   "id": "2641b4f4-f67b-4a3b-99b5-9938e0fc22e4",
   "metadata": {},
   "outputs": [],
   "source": [
    "criterion = nn.CrossEntropyLoss() # already includes softmax (no need for softmax layer)\n",
    "optimizer = torch.optim.SGD(model.parameters(), lr=LR, momentum=0.9)\n",
    "# optimizer = torch.optim.Adam(model.parameters(), lr=LR)"
   ]
  },
  {
   "cell_type": "code",
   "execution_count": null,
   "id": "3959e1ea-1a33-4e53-af38-572fb29185c1",
   "metadata": {},
   "outputs": [],
   "source": [
    "training_loss = []\n",
    "\n",
    "for epoch in range(NUM_EPOCHS):\n",
    "    #progress_bar = tqdm(train_loader, total=len(train_loader))\n",
    "    training_loss_epoch = 0.0\n",
    "    \n",
    "    for i, (imgs, labels) in enumerate(train_loader):\n",
    "        # using GPU\n",
    "        imgs, labels = imgs.to(device), labels.to(device)\n",
    "    \n",
    "        # forward pass\n",
    "        flattened_imgs = imgs.flatten(start_dim=1)\n",
    "        preds = model(flattened_imgs)\n",
    "    \n",
    "        # computing loss (loss is Tensor of 1 element, loss.item() is scalar)\n",
    "        loss = criterion(preds, labels)\n",
    "        training_loss_epoch += loss.item()\n",
    "\n",
    "        # removing accumulated gradients\n",
    "        optimizer.zero_grad()\n",
    "    \n",
    "        # backpropagation - computing gradients\n",
    "        loss.backward()\n",
    "    \n",
    "        # updating parameters/weights\n",
    "        optimizer.step()\n",
    "\n",
    "    training_loss_epoch = np.divide(training_loss_epoch, i+1)\n",
    "    training_loss.append(training_loss_epoch)\n",
    "\n",
    "    print(\"Epoch: \" + str(epoch+1) + \", loss: \" + str(training_loss_epoch))"
   ]
  },
  {
   "cell_type": "markdown",
   "id": "04d02d7f-34f0-4ba0-ad47-1f8a805337df",
   "metadata": {},
   "source": [
    "# Loss Curve for Training Data"
   ]
  },
  {
   "cell_type": "code",
   "execution_count": null,
   "id": "1d4188e5-30d9-4f5d-9a26-b5f658ee6ffa",
   "metadata": {},
   "outputs": [],
   "source": [
    "plt.style.use('seaborn')\n",
    "fig, ax = plt.subplots(1,1)\n",
    "fig.set_size_inches(18,5)\n",
    "\n",
    "ax.plot(training_loss, c=\"blue\", label=\"Training Loss\", linewidth=3, alpha=0.5)\n",
    "ax.legend(loc=\"best\")\n",
    "ax.set_xlabel(\"Iteration\")\n",
    "ax.set_ylabel(\"CE Loss\")\n",
    "ax.set_title(\"Training Progress (linearscale)\")\n",
    "\n",
    "plt.show()"
   ]
  },
  {
   "cell_type": "markdown",
   "id": "119eb8de-a176-4002-9481-b76512dc0985",
   "metadata": {},
   "source": [
    "# Accuracy"
   ]
  },
  {
   "cell_type": "code",
   "execution_count": null,
   "id": "635979cb-63e4-46d2-9256-84e1ecdd5626",
   "metadata": {},
   "outputs": [],
   "source": [
    "n_correct = 0"
   ]
  },
  {
   "cell_type": "code",
   "execution_count": null,
   "id": "518ba3c7-d693-4a7e-9b98-59f22733da19",
   "metadata": {},
   "outputs": [],
   "source": [
    "with torch.no_grad():\n",
    "    #progress_bar = tqdm(enumerate(eval_loader), total=len(eval_loader))\n",
    "    for i, (imgs, labels) in enumerate(train_loader): \n",
    "        #everything needs to be on the same device\n",
    "        imgs = imgs.to(device)\n",
    "        labels = labels.to(device)\n",
    "        \n",
    "        # forward pass\n",
    "        flattened_imgs = imgs.flatten(start_dim=1)\n",
    "        preds = model(flattened_imgs)\n",
    "\n",
    "        pred_labels = torch.argmax(preds, dim=1)\n",
    "        cur_correct = len(torch.where(pred_labels == labels)[0])\n",
    "        n_correct = n_correct + cur_correct"
   ]
  },
  {
   "cell_type": "code",
   "execution_count": null,
   "id": "481fb762-b300-4336-9c3c-ec4dae77c4d5",
   "metadata": {},
   "outputs": [],
   "source": [
    "accuracy = n_correct / len(train_dataset) * 100\n",
    "print(f\"Training accuracy: {round(accuracy,2)}%\")"
   ]
  },
  {
   "cell_type": "code",
   "execution_count": null,
   "id": "35f85061-0e5e-49d6-b8bc-920e19e15728",
   "metadata": {},
   "outputs": [],
   "source": [
    "n_correct = 0"
   ]
  },
  {
   "cell_type": "code",
   "execution_count": null,
   "id": "6a0b9bc6-686d-4742-b701-0bfb480a2cae",
   "metadata": {},
   "outputs": [],
   "source": [
    "with torch.no_grad():\n",
    "    #progress_bar = tqdm(enumerate(eval_loader), total=len(eval_loader))\n",
    "    for i, (imgs, labels) in enumerate(eval_loader): \n",
    "        #everything needs to be on the same device\n",
    "        imgs = imgs.to(device)\n",
    "        labels = labels.to(device)\n",
    "        \n",
    "        # forward pass\n",
    "        flattened_imgs = imgs.flatten(start_dim=1)\n",
    "        preds = model(flattened_imgs)\n",
    "\n",
    "        pred_labels = torch.argmax(preds, dim=1)\n",
    "        cur_correct = len(torch.where(pred_labels == labels)[0])\n",
    "        n_correct = n_correct + cur_correct"
   ]
  },
  {
   "cell_type": "code",
   "execution_count": null,
   "id": "0dde3750-bb40-4cd1-821d-386759e30fff",
   "metadata": {},
   "outputs": [],
   "source": [
    "accuracy = n_correct / len(test_dataset) * 100\n",
    "print(f\"Test accuracy: {round(accuracy,2)}%\")"
   ]
  },
  {
   "cell_type": "markdown",
   "id": "0fda99d7-f392-4436-8863-9abf9c0fa1ba",
   "metadata": {},
   "source": [
    "# Optuna - Hyperparameter Optimization\n",
    "\n",
    "https://optuna.org/#code_examples"
   ]
  },
  {
   "cell_type": "markdown",
   "id": "4aeec629-7421-4a62-b293-02edc829fe34",
   "metadata": {},
   "source": [
    "You can optimize PyTorch hyperparameters, such as the number of layers and the number of hidden nodes in each layer, in three steps: "
   ]
  },
  {
   "cell_type": "code",
   "execution_count": null,
   "id": "4d1e44e8-a2e6-4661-a8a5-00a9df07b3d3",
   "metadata": {},
   "outputs": [],
   "source": [
    "import optuna"
   ]
  },
  {
   "cell_type": "code",
   "execution_count": null,
   "id": "f0864512-36f5-430f-99c3-22d0a18cf877",
   "metadata": {},
   "outputs": [],
   "source": []
  },
  {
   "cell_type": "code",
   "execution_count": null,
   "id": "415900e6-789b-4e19-b996-f3a88b8206f7",
   "metadata": {},
   "outputs": [],
   "source": []
  },
  {
   "cell_type": "code",
   "execution_count": null,
   "id": "e7970ecb-ca14-4fd3-9417-af5bc736dbcd",
   "metadata": {},
   "outputs": [],
   "source": []
  }
 ],
 "metadata": {
  "kernelspec": {
   "display_name": "Python 3",
   "language": "python",
   "name": "python3"
  },
  "language_info": {
   "codemirror_mode": {
    "name": "ipython",
    "version": 3
   },
   "file_extension": ".py",
   "mimetype": "text/x-python",
   "name": "python",
   "nbconvert_exporter": "python",
   "pygments_lexer": "ipython3",
   "version": "3.8.15"
  }
 },
 "nbformat": 4,
 "nbformat_minor": 5
}
