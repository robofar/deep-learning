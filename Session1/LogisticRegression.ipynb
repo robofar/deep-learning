{
 "cells": [
  {
   "cell_type": "markdown",
   "id": "9b77e779-0b04-494b-b9f8-aeb8e4d130f3",
   "metadata": {},
   "source": [
    "# Logistic Regression using PyTorch"
   ]
  },
  {
   "cell_type": "code",
   "execution_count": 1,
   "id": "44f3ba16-b70a-46be-8de5-ad516099b8ff",
   "metadata": {},
   "outputs": [
    {
     "name": "stderr",
     "output_type": "stream",
     "text": [
      "/home/faris/miniconda3/envs/cudalab/lib/python3.8/site-packages/tqdm/auto.py:21: TqdmWarning: IProgress not found. Please update jupyter and ipywidgets. See https://ipywidgets.readthedocs.io/en/stable/user_install.html\n",
      "  from .autonotebook import tqdm as notebook_tqdm\n"
     ]
    }
   ],
   "source": [
    "import torch\n",
    "import torch.nn as nn\n",
    "import numpy as np\n",
    "import matplotlib.pyplot as plt\n",
    "from sklearn import datasets\n",
    "from sklearn.preprocessing import StandardScaler\n",
    "from sklearn.model_selection import train_test_split"
   ]
  },
  {
   "cell_type": "markdown",
   "id": "4bb9be68-653a-47cb-99ff-34fd23fc3e73",
   "metadata": {},
   "source": [
    "### Pipeline\n",
    "  - Data:\n",
    "      - Load dataset\n",
    "      - DataLoader\n",
    "      - Visualize dataset samples\n",
    "  - Design Model:\n",
    "      - Model Architecture\n",
    "      - Forward Pass\n",
    "  - Define Loss Function\n",
    "  - Define Optimizer\n",
    "  - Train:\n",
    "      - Forward Pass (compute activations and loss)\n",
    "      - Backward Pass (compute gradients)\n",
    "      - Update Weights"
   ]
  },
  {
   "cell_type": "markdown",
   "id": "95638130-020e-4de4-93ac-d3135c01b6a4",
   "metadata": {},
   "source": [
    "## Prepare dataset"
   ]
  },
  {
   "cell_type": "code",
   "execution_count": 2,
   "id": "3d85cbdc-fcaa-491d-a791-4d00bc2c6f38",
   "metadata": {},
   "outputs": [],
   "source": [
    "bc = datasets.load_breast_cancer()\n",
    "X, y = bc.data, bc.target"
   ]
  },
  {
   "cell_type": "code",
   "execution_count": 3,
   "id": "ba7242cd-b9da-47e0-b7ad-5c7aba720ef4",
   "metadata": {},
   "outputs": [
    {
     "data": {
      "text/plain": [
       "(569, 30)"
      ]
     },
     "execution_count": 3,
     "metadata": {},
     "output_type": "execute_result"
    }
   ],
   "source": [
    "X.shape"
   ]
  },
  {
   "cell_type": "code",
   "execution_count": 4,
   "id": "698ceddc-d44a-42cb-ac22-921b0cf11623",
   "metadata": {},
   "outputs": [
    {
     "data": {
      "text/plain": [
       "(569,)"
      ]
     },
     "execution_count": 4,
     "metadata": {},
     "output_type": "execute_result"
    }
   ],
   "source": [
    "y.shape"
   ]
  },
  {
   "cell_type": "code",
   "execution_count": 5,
   "id": "3f65f177-67c9-4203-b6a1-376651122493",
   "metadata": {},
   "outputs": [],
   "source": [
    "X_train, X_test, y_train, y_test = train_test_split(X, y, test_size=0.2, random_state=1234)"
   ]
  },
  {
   "cell_type": "code",
   "execution_count": 6,
   "id": "cb5d8f96-e619-44fc-b380-62ffd770de4f",
   "metadata": {},
   "outputs": [],
   "source": [
    "# scale\n",
    "sc = StandardScaler()\n",
    "X_train = sc.fit_transform(X_train) # find mean and std from X_train and transform/scale it\n",
    "X_test = sc.transform(X_test) # scale with same parameters that you found with training data"
   ]
  },
  {
   "cell_type": "code",
   "execution_count": 7,
   "id": "15418c0b-7fe0-4979-8c5c-a80f3dc9e852",
   "metadata": {},
   "outputs": [],
   "source": [
    "X_train = torch.from_numpy(X_train.astype(np.float32))\n",
    "X_test = torch.from_numpy(X_test.astype(np.float32))\n",
    "y_train = torch.from_numpy(y_train.astype(np.float32))\n",
    "y_test = torch.from_numpy(y_test.astype(np.float32))"
   ]
  },
  {
   "cell_type": "code",
   "execution_count": 8,
   "id": "5806a9d6-7f61-460b-943d-89531f24aece",
   "metadata": {},
   "outputs": [
    {
     "data": {
      "text/plain": [
       "torch.Size([455])"
      ]
     },
     "execution_count": 8,
     "metadata": {},
     "output_type": "execute_result"
    }
   ],
   "source": [
    "y_train.shape"
   ]
  },
  {
   "cell_type": "code",
   "execution_count": 9,
   "id": "c754d00e-28a1-4048-bc79-ce6b04e125da",
   "metadata": {},
   "outputs": [],
   "source": [
    "y_train = y_train.view(-1,1)\n",
    "y_test = y_test.view(-1,1)"
   ]
  },
  {
   "cell_type": "code",
   "execution_count": 10,
   "id": "bc26dbae-61b3-4eba-8127-33f9f513c7b7",
   "metadata": {},
   "outputs": [
    {
     "data": {
      "text/plain": [
       "torch.Size([455, 1])"
      ]
     },
     "execution_count": 10,
     "metadata": {},
     "output_type": "execute_result"
    }
   ],
   "source": [
    "y_train.shape"
   ]
  },
  {
   "cell_type": "markdown",
   "id": "1bdfd0a3-fb04-4c5a-9ce8-02353596e223",
   "metadata": {},
   "source": [
    "## Model"
   ]
  },
  {
   "cell_type": "code",
   "execution_count": 15,
   "id": "7b94ba7d-73e9-4ec0-8f19-9beea735f1c8",
   "metadata": {},
   "outputs": [],
   "source": [
    "in_features = X_train.shape[1]\n",
    "out_features = y_train.shape[1]"
   ]
  },
  {
   "cell_type": "code",
   "execution_count": 21,
   "id": "4f6df860-7894-41f5-a5c8-28737574ffeb",
   "metadata": {},
   "outputs": [],
   "source": [
    "class LogisticRegression(nn.Module):\n",
    "    def __init__(self, in_features, out_features):\n",
    "        super(LogisticRegression, self).__init__()\n",
    "        self.linear = nn.Linear(in_features, out_features)\n",
    "        self.activation = torch.nn.Sigmoid()\n",
    "\n",
    "    def forward(self, x):\n",
    "        #y_pred = torch.sigmoid(self.linear(x))\n",
    "        #y_pred = self.activation(self.linear(x))\n",
    "        logits = self.linear(x)\n",
    "        y_pred = self.activation(logits)\n",
    "        return y_pred"
   ]
  },
  {
   "cell_type": "code",
   "execution_count": 22,
   "id": "ab13bf5f-83be-4a8d-a2a4-5ec7c48d9680",
   "metadata": {},
   "outputs": [],
   "source": [
    "model = LogisticRegression(in_features, out_features)"
   ]
  },
  {
   "cell_type": "code",
   "execution_count": 23,
   "id": "285c411c-3e90-439b-80e9-03b4de88295d",
   "metadata": {},
   "outputs": [
    {
     "data": {
      "text/plain": [
       "LogisticRegression(\n",
       "  (linear): Linear(in_features=30, out_features=1, bias=True)\n",
       "  (activation): Sigmoid()\n",
       ")"
      ]
     },
     "execution_count": 23,
     "metadata": {},
     "output_type": "execute_result"
    }
   ],
   "source": [
    "model"
   ]
  },
  {
   "cell_type": "code",
   "execution_count": null,
   "id": "84ad790d-8b1b-4277-8079-a173217ef436",
   "metadata": {},
   "outputs": [],
   "source": []
  },
  {
   "cell_type": "markdown",
   "id": "7c001919-cc76-436e-80ce-baabc08487bf",
   "metadata": {},
   "source": [
    "## Loss and Optimizer"
   ]
  },
  {
   "cell_type": "code",
   "execution_count": 14,
   "id": "90858c23-3dc9-4445-bdaa-2918dad1897d",
   "metadata": {},
   "outputs": [],
   "source": [
    "criterion = nn.BCELoss()"
   ]
  },
  {
   "cell_type": "code",
   "execution_count": 15,
   "id": "f625f62c-7522-496f-9bed-4d4c1a88b73b",
   "metadata": {},
   "outputs": [],
   "source": [
    "learning_rate = 0.01\n",
    "optimizer = torch.optim.SGD(model.parameters(), lr=learning_rate)"
   ]
  },
  {
   "cell_type": "markdown",
   "id": "116451e1-d546-47c6-ad31-800d2c05d141",
   "metadata": {},
   "source": [
    "## Train"
   ]
  },
  {
   "cell_type": "code",
   "execution_count": 16,
   "id": "5867a962-3cb2-47c7-aa78-19ceb9182e72",
   "metadata": {},
   "outputs": [],
   "source": [
    "num_epochs = 100"
   ]
  },
  {
   "cell_type": "code",
   "execution_count": 17,
   "id": "6060a2ee-d25f-4690-bb87-0cad175155f6",
   "metadata": {},
   "outputs": [],
   "source": [
    "for epoch in range(num_epochs):\n",
    "    # Forward pass and loss\n",
    "    y_pred = model(X_train)\n",
    "    loss = criterion(y_pred, y_train)\n",
    "\n",
    "    # Backward pass and update\n",
    "    loss.backward()\n",
    "    # Update weights\n",
    "    optimizer.step()\n",
    "\n",
    "    # zero grad before new step\n",
    "    optimizer.zero_grad()"
   ]
  },
  {
   "cell_type": "markdown",
   "id": "85b98513-4efb-42f6-8bcc-239ef446bbf5",
   "metadata": {},
   "source": [
    "## Evaluate 1"
   ]
  },
  {
   "cell_type": "code",
   "execution_count": 18,
   "id": "f29316b4-c65d-40e6-af45-6bdcd4fb8da3",
   "metadata": {},
   "outputs": [],
   "source": [
    "y_test_pred = model(X_test)"
   ]
  },
  {
   "cell_type": "code",
   "execution_count": 19,
   "id": "ede4d29a-44ac-437d-b3c1-c300a11051c0",
   "metadata": {},
   "outputs": [
    {
     "data": {
      "text/plain": [
       "torch.Tensor"
      ]
     },
     "execution_count": 19,
     "metadata": {},
     "output_type": "execute_result"
    }
   ],
   "source": [
    "type(y_test_pred)"
   ]
  },
  {
   "cell_type": "code",
   "execution_count": 20,
   "id": "71b29d9c-f777-46a6-b069-8393ab7b16ca",
   "metadata": {},
   "outputs": [],
   "source": [
    "y_test_pred_numpy = y_test_pred.detach().numpy()\n",
    "y_test_pred_numpy = np.round(y_test_pred_numpy)"
   ]
  },
  {
   "cell_type": "code",
   "execution_count": 21,
   "id": "084ac9d9-aab9-4c04-8eeb-7cc22cbdd501",
   "metadata": {},
   "outputs": [
    {
     "data": {
      "text/plain": [
       "numpy.ndarray"
      ]
     },
     "execution_count": 21,
     "metadata": {},
     "output_type": "execute_result"
    }
   ],
   "source": [
    "type(y_test_pred_numpy)"
   ]
  },
  {
   "cell_type": "code",
   "execution_count": 22,
   "id": "32461728-5a1c-44db-942b-8117fcb74eb8",
   "metadata": {},
   "outputs": [],
   "source": [
    "y_test_numpy = y_test.numpy()"
   ]
  },
  {
   "cell_type": "code",
   "execution_count": 23,
   "id": "5e50f2c6-281b-4d46-b058-b13451f35c81",
   "metadata": {},
   "outputs": [
    {
     "data": {
      "text/plain": [
       "numpy.ndarray"
      ]
     },
     "execution_count": 23,
     "metadata": {},
     "output_type": "execute_result"
    }
   ],
   "source": [
    "type(y_test_numpy)"
   ]
  },
  {
   "cell_type": "code",
   "execution_count": 24,
   "id": "0873e874-a583-4c90-8f97-6c2fddd43a83",
   "metadata": {},
   "outputs": [],
   "source": [
    "acc = (np.mean(y_test_pred_numpy == y_test_numpy))"
   ]
  },
  {
   "cell_type": "code",
   "execution_count": 25,
   "id": "dfa00f46-8e1a-4e16-9af5-5fd7b26a9204",
   "metadata": {},
   "outputs": [
    {
     "name": "stdout",
     "output_type": "stream",
     "text": [
      "accuracy: 0.9298\n"
     ]
    }
   ],
   "source": [
    "print(f'accuracy: {acc.item():.4f}')"
   ]
  },
  {
   "cell_type": "markdown",
   "id": "bd7bc3a0-ee60-42ad-b3f8-124d5588c6fc",
   "metadata": {},
   "source": [
    "## Evaluate 2"
   ]
  },
  {
   "cell_type": "code",
   "execution_count": 26,
   "id": "fa996882-9cf6-46a0-9526-b7a182b0ea5e",
   "metadata": {},
   "outputs": [
    {
     "data": {
      "text/plain": [
       "tensor([[7.0787e-01],\n",
       "        [9.4454e-01],\n",
       "        [4.7695e-01],\n",
       "        [8.4165e-01],\n",
       "        [8.3959e-01],\n",
       "        [5.5891e-01],\n",
       "        [4.4336e-01],\n",
       "        [9.2934e-01],\n",
       "        [5.8180e-02],\n",
       "        [7.4942e-02],\n",
       "        [6.5387e-02],\n",
       "        [6.8906e-01],\n",
       "        [7.9179e-01],\n",
       "        [6.2460e-01],\n",
       "        [8.3095e-01],\n",
       "        [3.5258e-03],\n",
       "        [9.2198e-01],\n",
       "        [9.4011e-01],\n",
       "        [7.9232e-01],\n",
       "        [2.4125e-01],\n",
       "        [7.6829e-01],\n",
       "        [2.9794e-01],\n",
       "        [1.3574e-02],\n",
       "        [6.1392e-03],\n",
       "        [7.0141e-02],\n",
       "        [7.5728e-01],\n",
       "        [4.0058e-01],\n",
       "        [8.8010e-01],\n",
       "        [9.5119e-01],\n",
       "        [9.1815e-01],\n",
       "        [8.2439e-01],\n",
       "        [8.8440e-01],\n",
       "        [6.2271e-02],\n",
       "        [6.5914e-01],\n",
       "        [7.5912e-01],\n",
       "        [5.9562e-01],\n",
       "        [9.1733e-01],\n",
       "        [2.6754e-01],\n",
       "        [6.3329e-01],\n",
       "        [8.8901e-01],\n",
       "        [1.2902e-01],\n",
       "        [8.1266e-01],\n",
       "        [9.3420e-02],\n",
       "        [6.9066e-01],\n",
       "        [7.0768e-01],\n",
       "        [9.2111e-01],\n",
       "        [7.9567e-01],\n",
       "        [6.5772e-01],\n",
       "        [1.2500e-02],\n",
       "        [6.8407e-01],\n",
       "        [4.0307e-01],\n",
       "        [6.9036e-01],\n",
       "        [8.8062e-01],\n",
       "        [3.5753e-02],\n",
       "        [5.4908e-01],\n",
       "        [8.5137e-01],\n",
       "        [6.3118e-01],\n",
       "        [9.6531e-01],\n",
       "        [7.2659e-01],\n",
       "        [1.4341e-01],\n",
       "        [4.3688e-01],\n",
       "        [9.2158e-01],\n",
       "        [6.3688e-01],\n",
       "        [8.9194e-01],\n",
       "        [7.3986e-01],\n",
       "        [2.8527e-01],\n",
       "        [4.9625e-02],\n",
       "        [7.6843e-01],\n",
       "        [8.6490e-01],\n",
       "        [7.1422e-01],\n",
       "        [9.2037e-01],\n",
       "        [7.2349e-02],\n",
       "        [9.4597e-01],\n",
       "        [4.6245e-01],\n",
       "        [9.3284e-01],\n",
       "        [9.1499e-01],\n",
       "        [9.1328e-01],\n",
       "        [5.4745e-02],\n",
       "        [8.3701e-01],\n",
       "        [2.6778e-01],\n",
       "        [9.3552e-01],\n",
       "        [8.0125e-01],\n",
       "        [6.5759e-01],\n",
       "        [4.9343e-01],\n",
       "        [2.8223e-01],\n",
       "        [2.2628e-01],\n",
       "        [7.2856e-02],\n",
       "        [1.8023e-01],\n",
       "        [7.2287e-01],\n",
       "        [4.6442e-01],\n",
       "        [7.9843e-01],\n",
       "        [7.0884e-01],\n",
       "        [9.2125e-01],\n",
       "        [1.0366e-02],\n",
       "        [9.9227e-02],\n",
       "        [8.0265e-01],\n",
       "        [8.2745e-01],\n",
       "        [6.3224e-01],\n",
       "        [9.5783e-01],\n",
       "        [8.9604e-01],\n",
       "        [2.1624e-02],\n",
       "        [3.0550e-02],\n",
       "        [8.5993e-01],\n",
       "        [9.4750e-01],\n",
       "        [3.3381e-01],\n",
       "        [9.0258e-01],\n",
       "        [9.3164e-01],\n",
       "        [2.2842e-01],\n",
       "        [3.0851e-01],\n",
       "        [6.1228e-01],\n",
       "        [9.2727e-02],\n",
       "        [7.9675e-01],\n",
       "        [4.8125e-01],\n",
       "        [4.8307e-06]], grad_fn=<SigmoidBackward0>)"
      ]
     },
     "execution_count": 26,
     "metadata": {},
     "output_type": "execute_result"
    }
   ],
   "source": [
    "y_test_pred"
   ]
  },
  {
   "cell_type": "code",
   "execution_count": 27,
   "id": "8b329f0e-2536-4fb7-8ffd-56c4e30fca46",
   "metadata": {},
   "outputs": [
    {
     "name": "stdout",
     "output_type": "stream",
     "text": [
      "accuracy: 0.9298\n"
     ]
    }
   ],
   "source": [
    "with torch.no_grad():\n",
    "    y_predicted = model(X_test)\n",
    "    y_predicted_cls = y_predicted.round()\n",
    "    acc = y_predicted_cls.eq(y_test).sum() / float(y_test.shape[0])\n",
    "    print(f'accuracy: {acc.item():.4f}')"
   ]
  },
  {
   "cell_type": "code",
   "execution_count": 28,
   "id": "136e41c7-4af9-4971-865f-b817d450c448",
   "metadata": {},
   "outputs": [
    {
     "data": {
      "text/plain": [
       "tensor([[7.0787e-01],\n",
       "        [9.4454e-01],\n",
       "        [4.7695e-01],\n",
       "        [8.4165e-01],\n",
       "        [8.3959e-01],\n",
       "        [5.5891e-01],\n",
       "        [4.4336e-01],\n",
       "        [9.2934e-01],\n",
       "        [5.8180e-02],\n",
       "        [7.4942e-02],\n",
       "        [6.5387e-02],\n",
       "        [6.8906e-01],\n",
       "        [7.9179e-01],\n",
       "        [6.2460e-01],\n",
       "        [8.3095e-01],\n",
       "        [3.5258e-03],\n",
       "        [9.2198e-01],\n",
       "        [9.4011e-01],\n",
       "        [7.9232e-01],\n",
       "        [2.4125e-01],\n",
       "        [7.6829e-01],\n",
       "        [2.9794e-01],\n",
       "        [1.3574e-02],\n",
       "        [6.1392e-03],\n",
       "        [7.0141e-02],\n",
       "        [7.5728e-01],\n",
       "        [4.0058e-01],\n",
       "        [8.8010e-01],\n",
       "        [9.5119e-01],\n",
       "        [9.1815e-01],\n",
       "        [8.2439e-01],\n",
       "        [8.8440e-01],\n",
       "        [6.2271e-02],\n",
       "        [6.5914e-01],\n",
       "        [7.5912e-01],\n",
       "        [5.9562e-01],\n",
       "        [9.1733e-01],\n",
       "        [2.6754e-01],\n",
       "        [6.3329e-01],\n",
       "        [8.8901e-01],\n",
       "        [1.2902e-01],\n",
       "        [8.1266e-01],\n",
       "        [9.3420e-02],\n",
       "        [6.9066e-01],\n",
       "        [7.0768e-01],\n",
       "        [9.2111e-01],\n",
       "        [7.9567e-01],\n",
       "        [6.5772e-01],\n",
       "        [1.2500e-02],\n",
       "        [6.8407e-01],\n",
       "        [4.0307e-01],\n",
       "        [6.9036e-01],\n",
       "        [8.8062e-01],\n",
       "        [3.5753e-02],\n",
       "        [5.4908e-01],\n",
       "        [8.5137e-01],\n",
       "        [6.3118e-01],\n",
       "        [9.6531e-01],\n",
       "        [7.2659e-01],\n",
       "        [1.4341e-01],\n",
       "        [4.3688e-01],\n",
       "        [9.2158e-01],\n",
       "        [6.3688e-01],\n",
       "        [8.9194e-01],\n",
       "        [7.3986e-01],\n",
       "        [2.8527e-01],\n",
       "        [4.9625e-02],\n",
       "        [7.6843e-01],\n",
       "        [8.6490e-01],\n",
       "        [7.1422e-01],\n",
       "        [9.2037e-01],\n",
       "        [7.2349e-02],\n",
       "        [9.4597e-01],\n",
       "        [4.6245e-01],\n",
       "        [9.3284e-01],\n",
       "        [9.1499e-01],\n",
       "        [9.1328e-01],\n",
       "        [5.4745e-02],\n",
       "        [8.3701e-01],\n",
       "        [2.6778e-01],\n",
       "        [9.3552e-01],\n",
       "        [8.0125e-01],\n",
       "        [6.5759e-01],\n",
       "        [4.9343e-01],\n",
       "        [2.8223e-01],\n",
       "        [2.2628e-01],\n",
       "        [7.2856e-02],\n",
       "        [1.8023e-01],\n",
       "        [7.2287e-01],\n",
       "        [4.6442e-01],\n",
       "        [7.9843e-01],\n",
       "        [7.0884e-01],\n",
       "        [9.2125e-01],\n",
       "        [1.0366e-02],\n",
       "        [9.9227e-02],\n",
       "        [8.0265e-01],\n",
       "        [8.2745e-01],\n",
       "        [6.3224e-01],\n",
       "        [9.5783e-01],\n",
       "        [8.9604e-01],\n",
       "        [2.1624e-02],\n",
       "        [3.0550e-02],\n",
       "        [8.5993e-01],\n",
       "        [9.4750e-01],\n",
       "        [3.3381e-01],\n",
       "        [9.0258e-01],\n",
       "        [9.3164e-01],\n",
       "        [2.2842e-01],\n",
       "        [3.0851e-01],\n",
       "        [6.1228e-01],\n",
       "        [9.2727e-02],\n",
       "        [7.9675e-01],\n",
       "        [4.8125e-01],\n",
       "        [4.8307e-06]])"
      ]
     },
     "execution_count": 28,
     "metadata": {},
     "output_type": "execute_result"
    }
   ],
   "source": [
    "y_predicted"
   ]
  },
  {
   "cell_type": "code",
   "execution_count": null,
   "id": "982940fc-4f0b-4711-ab5e-518f8587a3b8",
   "metadata": {},
   "outputs": [],
   "source": []
  },
  {
   "cell_type": "code",
   "execution_count": null,
   "id": "a17f95b3-e323-417a-a16d-fef939b1daed",
   "metadata": {},
   "outputs": [],
   "source": []
  },
  {
   "cell_type": "code",
   "execution_count": null,
   "id": "f8dd9804-6bf4-46ec-9445-c7415f4395b6",
   "metadata": {},
   "outputs": [],
   "source": []
  },
  {
   "cell_type": "code",
   "execution_count": null,
   "id": "b2857e27-7ba0-42f9-bc49-ab08f2fbbfec",
   "metadata": {},
   "outputs": [],
   "source": []
  },
  {
   "cell_type": "code",
   "execution_count": null,
   "id": "2487e935-bdfd-4914-a112-e24c8a06828b",
   "metadata": {},
   "outputs": [],
   "source": []
  },
  {
   "cell_type": "code",
   "execution_count": null,
   "id": "9087a8bc-5ac4-460d-a549-31511d706fd0",
   "metadata": {},
   "outputs": [],
   "source": []
  }
 ],
 "metadata": {
  "kernelspec": {
   "display_name": "Python 3",
   "language": "python",
   "name": "python3"
  },
  "language_info": {
   "codemirror_mode": {
    "name": "ipython",
    "version": 3
   },
   "file_extension": ".py",
   "mimetype": "text/x-python",
   "name": "python",
   "nbconvert_exporter": "python",
   "pygments_lexer": "ipython3",
   "version": "3.8.15"
  }
 },
 "nbformat": 4,
 "nbformat_minor": 5
}
