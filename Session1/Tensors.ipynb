{
 "cells": [
  {
   "cell_type": "code",
   "execution_count": 1,
   "id": "e6937d26-227d-4c30-a292-b2d123cdf794",
   "metadata": {},
   "outputs": [],
   "source": [
    "import torch\n",
    "import numpy as np"
   ]
  },
  {
   "cell_type": "markdown",
   "id": "3fe3a5a5-2420-4fe8-a9e2-ecf4297d74e8",
   "metadata": {},
   "source": [
    "# Tensors"
   ]
  },
  {
   "cell_type": "code",
   "execution_count": 2,
   "id": "6cc495c6-d951-496f-8bd5-b8dc6ccbcccb",
   "metadata": {},
   "outputs": [],
   "source": [
    "# Creating Tensor\n",
    "a = torch.Tensor([1,2,3])\n",
    "b = torch.Tensor(3,3)"
   ]
  },
  {
   "cell_type": "code",
   "execution_count": 3,
   "id": "3b9355cf-5b0d-4860-b025-df583fbc28e4",
   "metadata": {},
   "outputs": [],
   "source": [
    "# Tensor and Ndarray conversion\n",
    "c = a.numpy()\n",
    "a_recovered = torch.from_numpy(c)"
   ]
  },
  {
   "cell_type": "code",
   "execution_count": 4,
   "id": "5b800ef9-668e-4b8e-b792-c5cbe255b727",
   "metadata": {},
   "outputs": [],
   "source": [
    "# Initialization of Tensors\n",
    "B, C, H, W = 2, 3, 8, 10\n",
    "x = torch.rand(B, C, H, W)\n",
    "f = torch.randn(B, H, W)"
   ]
  },
  {
   "cell_type": "code",
   "execution_count": 5,
   "id": "658af3c7-4272-4239-aadb-20e35dccaef8",
   "metadata": {},
   "outputs": [
    {
     "name": "stdout",
     "output_type": "stream",
     "text": [
      "torch.Size([4, 8, 3, 8, 8])\n",
      "torch.Size([32, 192])\n",
      "torch.Size([4, 8, 3, 64])\n"
     ]
    }
   ],
   "source": [
    "# Reshaping Tensors\n",
    "BATCH_SIZE = 4\n",
    "SEQ_LENGTH = 8\n",
    "NUM_CHANNELS = 3\n",
    "HEIGHT = 8\n",
    "WIDTH = 8\n",
    "\n",
    "features = torch.randn(BATCH_SIZE, SEQ_LENGTH, NUM_CHANNELS, HEIGHT, WIDTH)\n",
    "linear_features = features.view(BATCH_SIZE * SEQ_LENGTH, NUM_CHANNELS * HEIGHT * WIDTH)\n",
    "linear_features_2 = features.view(BATCH_SIZE, -1, NUM_CHANNELS, HEIGHT * WIDTH)\n",
    "print(features.shape)\n",
    "print(linear_features.shape)\n",
    "print(linear_features_2.shape)"
   ]
  },
  {
   "cell_type": "markdown",
   "id": "ba34d045-f9e6-4b6c-95b2-5b907950b4bd",
   "metadata": {},
   "source": [
    "### Other interesting operations on Tensors:\n",
    "1. Cat\n",
    "2. Stack\n",
    "3. Squeeze\n",
    "4. Unsqueeze\n",
    "5. Transposing\n",
    "6. Permuting"
   ]
  },
  {
   "cell_type": "markdown",
   "id": "f906025d-026f-4377-af52-6c93541eceb3",
   "metadata": {},
   "source": [
    "# CUDA Tensors"
   ]
  },
  {
   "cell_type": "code",
   "execution_count": 6,
   "id": "89507e55-79a0-4342-8cba-419add0a26e6",
   "metadata": {},
   "outputs": [
    {
     "data": {
      "text/plain": [
       "True"
      ]
     },
     "execution_count": 6,
     "metadata": {},
     "output_type": "execute_result"
    }
   ],
   "source": [
    "torch.cuda.is_available()"
   ]
  },
  {
   "cell_type": "code",
   "execution_count": 7,
   "id": "b7cf7a70-89ca-4972-83b4-cb9caa93f367",
   "metadata": {},
   "outputs": [
    {
     "data": {
      "text/plain": [
       "1"
      ]
     },
     "execution_count": 7,
     "metadata": {},
     "output_type": "execute_result"
    }
   ],
   "source": [
    "torch.cuda.device_count()"
   ]
  },
  {
   "cell_type": "markdown",
   "id": "ef45d408-e238-4e1f-8771-07a152918a19",
   "metadata": {},
   "source": [
    "### Following is not the best option. If GPU is not available we will get error, and also we have to manually make sure that all of the Tensors are on GPU"
   ]
  },
  {
   "cell_type": "code",
   "execution_count": 8,
   "id": "7c7e8fc1-ae63-4460-afa4-e4265a02c49d",
   "metadata": {},
   "outputs": [
    {
     "ename": "RuntimeError",
     "evalue": "Expected all tensors to be on the same device, but found at least two devices, cuda:0 and cpu!",
     "output_type": "error",
     "traceback": [
      "\u001b[0;31m---------------------------------------------------------------------------\u001b[0m",
      "\u001b[0;31mRuntimeError\u001b[0m                              Traceback (most recent call last)",
      "Cell \u001b[0;32mIn[8], line 3\u001b[0m\n\u001b[1;32m      1\u001b[0m x, y \u001b[38;5;241m=\u001b[39m torch\u001b[38;5;241m.\u001b[39mones(\u001b[38;5;241m2\u001b[39m), torch\u001b[38;5;241m.\u001b[39mones(\u001b[38;5;241m2\u001b[39m)\n\u001b[1;32m      2\u001b[0m x \u001b[38;5;241m=\u001b[39m x\u001b[38;5;241m.\u001b[39mcuda()\n\u001b[0;32m----> 3\u001b[0m z \u001b[38;5;241m=\u001b[39m \u001b[43mx\u001b[49m\u001b[43m \u001b[49m\u001b[38;5;241;43m+\u001b[39;49m\u001b[43m \u001b[49m\u001b[43my\u001b[49m\n",
      "\u001b[0;31mRuntimeError\u001b[0m: Expected all tensors to be on the same device, but found at least two devices, cuda:0 and cpu!"
     ]
    }
   ],
   "source": [
    "x, y = torch.ones(2), torch.ones(2)\n",
    "x = x.cuda()\n",
    "z = x + y"
   ]
  },
  {
   "cell_type": "markdown",
   "id": "4ddf361d-911e-4f88-ba60-e5aa9ca2626b",
   "metadata": {},
   "source": [
    "### Following ensures that Tensors are always on the same device (if GPU is available they will both be on GPU, otherwise they will both be on CPU)"
   ]
  },
  {
   "cell_type": "code",
   "execution_count": 9,
   "id": "0bd59a67-68af-41b5-bcd5-9b0beb5f5934",
   "metadata": {},
   "outputs": [],
   "source": [
    "device = torch.device(\"cuda\" if torch.cuda.is_available() else \"cpu\")"
   ]
  },
  {
   "cell_type": "code",
   "execution_count": 10,
   "id": "f48de504-b15a-4b80-9633-21528e203657",
   "metadata": {},
   "outputs": [
    {
     "data": {
      "text/plain": [
       "tensor([2., 2.], device='cuda:0')"
      ]
     },
     "execution_count": 10,
     "metadata": {},
     "output_type": "execute_result"
    }
   ],
   "source": [
    "x, y = torch.ones(2), torch.ones(2)\n",
    "x = x.to(device)\n",
    "y = y.to(device)\n",
    "z = x + y\n",
    "z"
   ]
  },
  {
   "cell_type": "code",
   "execution_count": 11,
   "id": "ba1ad914-c127-4a8c-9a85-a733423ebefb",
   "metadata": {},
   "outputs": [
    {
     "data": {
      "text/plain": [
       "tensor([1., 1., 1., 1., 1.], device='cuda:0')"
      ]
     },
     "execution_count": 11,
     "metadata": {},
     "output_type": "execute_result"
    }
   ],
   "source": [
    "q = torch.ones(5, device=device)\n",
    "q"
   ]
  },
  {
   "cell_type": "code",
   "execution_count": 12,
   "id": "cab95e27-797c-46b1-a641-ccdd8e785432",
   "metadata": {},
   "outputs": [
    {
     "data": {
      "text/plain": [
       "tensor([1., 1., 1., 1., 1.])"
      ]
     },
     "execution_count": 12,
     "metadata": {},
     "output_type": "execute_result"
    }
   ],
   "source": [
    "q = q.cpu()\n",
    "q"
   ]
  },
  {
   "cell_type": "code",
   "execution_count": 13,
   "id": "342d3782-935e-414c-960a-08f158139124",
   "metadata": {},
   "outputs": [
    {
     "data": {
      "text/plain": [
       "tensor([1., 1., 1., 1., 1.], device='cuda:0')"
      ]
     },
     "execution_count": 13,
     "metadata": {},
     "output_type": "execute_result"
    }
   ],
   "source": [
    "q = q.cuda()\n",
    "q"
   ]
  },
  {
   "cell_type": "code",
   "execution_count": 15,
   "id": "8fc80076-3870-44e0-b6de-18b7867eb994",
   "metadata": {},
   "outputs": [
    {
     "data": {
      "text/plain": [
       "tensor([1., 1., 1., 1., 1.])"
      ]
     },
     "execution_count": 15,
     "metadata": {},
     "output_type": "execute_result"
    }
   ],
   "source": [
    "q = q.cpu()\n",
    "q"
   ]
  },
  {
   "cell_type": "code",
   "execution_count": 16,
   "id": "f9c9d5ac-da29-4d37-9e4e-c721137938d6",
   "metadata": {},
   "outputs": [
    {
     "data": {
      "text/plain": [
       "tensor([1., 1., 1., 1., 1.], device='cuda:0')"
      ]
     },
     "execution_count": 16,
     "metadata": {},
     "output_type": "execute_result"
    }
   ],
   "source": [
    "q = q.to(\"cuda\")\n",
    "q"
   ]
  },
  {
   "cell_type": "code",
   "execution_count": null,
   "id": "7b88158f-c72e-4a9f-bd96-551e0e75ccce",
   "metadata": {},
   "outputs": [],
   "source": []
  },
  {
   "cell_type": "code",
   "execution_count": null,
   "id": "8332b3a4-361c-4b65-87d5-5253257baaa5",
   "metadata": {},
   "outputs": [],
   "source": []
  }
 ],
 "metadata": {
  "kernelspec": {
   "display_name": "Python 3",
   "language": "python",
   "name": "python3"
  },
  "language_info": {
   "codemirror_mode": {
    "name": "ipython",
    "version": 3
   },
   "file_extension": ".py",
   "mimetype": "text/x-python",
   "name": "python",
   "nbconvert_exporter": "python",
   "pygments_lexer": "ipython3",
   "version": "3.8.18"
  }
 },
 "nbformat": 4,
 "nbformat_minor": 5
}
