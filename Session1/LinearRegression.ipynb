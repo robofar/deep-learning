{
 "cells": [
  {
   "cell_type": "markdown",
   "id": "53fe41b8-e739-451e-9d07-83a96dec62ca",
   "metadata": {},
   "source": [
    "# Linear Regression using PyTorch"
   ]
  },
  {
   "cell_type": "markdown",
   "id": "be40fc2c-381f-4bb0-9e8c-576bd5f02acc",
   "metadata": {},
   "source": [
    "### Pipeline\n",
    "  - Data:\n",
    "      - Load dataset\n",
    "      - DataLoader\n",
    "      - Visualize dataset samples\n",
    "  - Design Model:\n",
    "      - Model Architecture\n",
    "      - Forward Pass\n",
    "  - Define Loss Function\n",
    "  - Define Optimizer\n",
    "  - Train:\n",
    "      - Forward Pass (compute activations and loss)\n",
    "      - Backward Pass (compute gradients)\n",
    "      - Update Weights"
   ]
  },
  {
   "cell_type": "code",
   "execution_count": 1,
   "id": "e6e6e031-4506-4a8c-a2c3-87a3a5f31c48",
   "metadata": {},
   "outputs": [
    {
     "name": "stderr",
     "output_type": "stream",
     "text": [
      "/home/faris/miniconda3/envs/cudalab/lib/python3.8/site-packages/tqdm/auto.py:21: TqdmWarning: IProgress not found. Please update jupyter and ipywidgets. See https://ipywidgets.readthedocs.io/en/stable/user_install.html\n",
      "  from .autonotebook import tqdm as notebook_tqdm\n"
     ]
    }
   ],
   "source": [
    "import torch\n",
    "import torch.nn as nn\n",
    "import numpy as np\n",
    "from sklearn import datasets\n",
    "import matplotlib.pyplot as plt"
   ]
  },
  {
   "cell_type": "markdown",
   "id": "84cc689c-122e-4dba-af82-8b5608c3162c",
   "metadata": {},
   "source": [
    "### Import dataset"
   ]
  },
  {
   "cell_type": "code",
   "execution_count": 2,
   "id": "e929b116-82d5-451d-bf7d-6b2febb99a4d",
   "metadata": {},
   "outputs": [],
   "source": [
    "X_numpy, y_numpy = datasets.make_regression(n_samples=200, n_features=1, noise=20, random_state=1)"
   ]
  },
  {
   "cell_type": "code",
   "execution_count": 3,
   "id": "5e149326-091f-4ee6-9643-ef08b4c04537",
   "metadata": {},
   "outputs": [],
   "source": [
    "X_torch = torch.from_numpy(X_numpy.astype(np.float32))\n",
    "y_torch = torch.from_numpy(y_numpy.astype(np.float32)).view(-1,1)"
   ]
  },
  {
   "cell_type": "code",
   "execution_count": 4,
   "id": "68d3ed1f-aab2-49e4-a98e-db29ef000eef",
   "metadata": {},
   "outputs": [
    {
     "data": {
      "text/plain": [
       "torch.Size([200, 1])"
      ]
     },
     "execution_count": 4,
     "metadata": {},
     "output_type": "execute_result"
    }
   ],
   "source": [
    "X_torch.shape"
   ]
  },
  {
   "cell_type": "code",
   "execution_count": 5,
   "id": "bba58b52-c893-43ec-9104-27956dd7bf98",
   "metadata": {},
   "outputs": [
    {
     "data": {
      "text/plain": [
       "torch.Size([200, 1])"
      ]
     },
     "execution_count": 5,
     "metadata": {},
     "output_type": "execute_result"
    }
   ],
   "source": [
    "y_torch.shape"
   ]
  },
  {
   "cell_type": "markdown",
   "id": "8d992c1a-3d39-4f5e-bc03-d376c5b1632e",
   "metadata": {},
   "source": [
    "### Design Model"
   ]
  },
  {
   "cell_type": "code",
   "execution_count": 6,
   "id": "0d984fdd-75a6-437d-8443-afc1ef15f854",
   "metadata": {},
   "outputs": [],
   "source": [
    "in_features = X_torch.shape[1]\n",
    "out_features = y_torch.shape[1]"
   ]
  },
  {
   "cell_type": "raw",
   "id": "c28d887b-05b3-425b-8f2c-733e187c7dd4",
   "metadata": {},
   "source": [
    "# 1 layer with 1 neuron\n",
    "model = nn.Linear(in_features, out_features)"
   ]
  },
  {
   "cell_type": "code",
   "execution_count": 7,
   "id": "9086cd2f-5a63-419d-ab96-dce032d2be61",
   "metadata": {},
   "outputs": [],
   "source": [
    "class LinearRegression(nn.Module):\n",
    "    def __init__(self, input_dim, output_dim):\n",
    "        super(LinearRegression, self).__init__()\n",
    "        # define diferent layers\n",
    "        self.linear = nn.Linear(input_dim, output_dim)\n",
    "\n",
    "    def forward(self, x):\n",
    "        return self.linear(x)"
   ]
  },
  {
   "cell_type": "code",
   "execution_count": 8,
   "id": "ceb517c3-74ad-49ad-8bde-266bbd066aa0",
   "metadata": {},
   "outputs": [],
   "source": [
    "model = LinearRegression(in_features, out_features)"
   ]
  },
  {
   "cell_type": "code",
   "execution_count": 9,
   "id": "28e2f275-66bc-40d3-9da2-8686f2b88f89",
   "metadata": {},
   "outputs": [
    {
     "data": {
      "text/plain": [
       "LinearRegression(\n",
       "  (linear): Linear(in_features=1, out_features=1, bias=True)\n",
       ")"
      ]
     },
     "execution_count": 9,
     "metadata": {},
     "output_type": "execute_result"
    }
   ],
   "source": [
    "model"
   ]
  },
  {
   "cell_type": "code",
   "execution_count": null,
   "id": "ebd1d044-3728-460a-8cb8-075ca69fec43",
   "metadata": {},
   "outputs": [],
   "source": []
  },
  {
   "cell_type": "markdown",
   "id": "f51f9d51-8bea-4b5e-a87b-036b764183ba",
   "metadata": {},
   "source": [
    "### Design Loss and Optimizer"
   ]
  },
  {
   "cell_type": "code",
   "execution_count": 9,
   "id": "10ab651e-4889-47f6-b6bf-a9b195d259dd",
   "metadata": {},
   "outputs": [],
   "source": [
    "criterion = nn.MSELoss()"
   ]
  },
  {
   "cell_type": "code",
   "execution_count": 10,
   "id": "82f4b197-a9d0-4971-9ed9-4a39bc2a0e07",
   "metadata": {},
   "outputs": [],
   "source": [
    "learning_rate = 0.01\n",
    "optimizer = torch.optim.SGD(model.parameters(), lr=learning_rate)"
   ]
  },
  {
   "cell_type": "markdown",
   "id": "71ef0066-8e74-4784-8609-dc1fe7925326",
   "metadata": {},
   "source": [
    "### Training"
   ]
  },
  {
   "cell_type": "code",
   "execution_count": 11,
   "id": "f7b5991c-521b-4135-9450-cb19a9702250",
   "metadata": {},
   "outputs": [],
   "source": [
    "num_epochs = 100"
   ]
  },
  {
   "cell_type": "code",
   "execution_count": 12,
   "id": "d60fb576-b6f3-453d-9744-705f09546643",
   "metadata": {},
   "outputs": [
    {
     "name": "stdout",
     "output_type": "stream",
     "text": [
      "<generator object Module.parameters at 0x7f1671f18120>\n",
      "<generator object Module.parameters at 0x7f1671f18040>\n",
      "<generator object Module.parameters at 0x7f1671f18040>\n",
      "<generator object Module.parameters at 0x7f1671f18040>\n",
      "<generator object Module.parameters at 0x7f1671f18040>\n",
      "<generator object Module.parameters at 0x7f1671f18040>\n",
      "<generator object Module.parameters at 0x7f1671f18040>\n",
      "<generator object Module.parameters at 0x7f1671f18040>\n",
      "<generator object Module.parameters at 0x7f1671f18040>\n",
      "<generator object Module.parameters at 0x7f1671f18040>\n"
     ]
    }
   ],
   "source": [
    "for epoch in range(num_epochs):\n",
    "    y_pred = model(X_torch)\n",
    "    loss = criterion(y_torch, y_pred)\n",
    "\n",
    "    loss.backward()\n",
    "    optimizer.step()\n",
    "    \n",
    "    optimizer.zero_grad()\n",
    "\n",
    "    if(epoch%10 == 0):\n",
    "        print(model.parameters())"
   ]
  },
  {
   "cell_type": "code",
   "execution_count": 13,
   "id": "7c0ff662-04c3-41a1-9929-c5090441b11d",
   "metadata": {},
   "outputs": [],
   "source": [
    "y_pred = model(X_torch)"
   ]
  },
  {
   "cell_type": "code",
   "execution_count": 14,
   "id": "9bbf5f8b-9995-4771-aef6-230405854dc3",
   "metadata": {},
   "outputs": [
    {
     "data": {
      "text/plain": [
       "torch.Tensor"
      ]
     },
     "execution_count": 14,
     "metadata": {},
     "output_type": "execute_result"
    }
   ],
   "source": [
    "type(y_pred)"
   ]
  },
  {
   "cell_type": "code",
   "execution_count": 15,
   "id": "ac01a132-19a5-4346-b51d-df72001f7932",
   "metadata": {},
   "outputs": [],
   "source": [
    "y_pred_numpy = y_pred.detach().numpy()"
   ]
  },
  {
   "cell_type": "code",
   "execution_count": 16,
   "id": "003c7ff8-81da-4c74-aa65-93d11d252c9d",
   "metadata": {},
   "outputs": [
    {
     "data": {
      "text/plain": [
       "[<matplotlib.lines.Line2D at 0x7f166ac7df70>]"
      ]
     },
     "execution_count": 16,
     "metadata": {},
     "output_type": "execute_result"
    },
    {
     "data": {
      "image/png": "[encoded data removed]",
      "text/plain": [
       "<Figure size 432x288 with 1 Axes>"
      ]
     },
     "metadata": {
      "needs_background": "light"
     },
     "output_type": "display_data"
    }
   ],
   "source": [
    "plt.scatter(X_numpy, y_numpy)\n",
    "plt.plot(X_numpy, y_pred_numpy)"
   ]
  },
  {
   "cell_type": "code",
   "execution_count": null,
   "id": "01d07543-5481-4153-87a0-2d3ff4bc774d",
   "metadata": {},
   "outputs": [],
   "source": []
  },
  {
   "cell_type": "code",
   "execution_count": null,
   "id": "e33ccb3d-6a62-48a7-9053-a444f32798e5",
   "metadata": {},
   "outputs": [],
   "source": []
  },
  {
   "cell_type": "code",
   "execution_count": null,
   "id": "782f04bc-1aa7-47d3-8b91-6e55508f3b8f",
   "metadata": {},
   "outputs": [],
   "source": []
  }
 ],
 "metadata": {
  "kernelspec": {
   "display_name": "Python 3",
   "language": "python",
   "name": "python3"
  },
  "language_info": {
   "codemirror_mode": {
    "name": "ipython",
    "version": 3
   },
   "file_extension": ".py",
   "mimetype": "text/x-python",
   "name": "python",
   "nbconvert_exporter": "python",
   "pygments_lexer": "ipython3",
   "version": "3.8.15"
  }
 },
 "nbformat": 4,
 "nbformat_minor": 5
}
